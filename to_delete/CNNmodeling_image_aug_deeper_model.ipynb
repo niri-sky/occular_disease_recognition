{
 "cells": [
  {
   "cell_type": "markdown",
   "id": "38f54474-6355-42b1-8c8d-a531822c58b1",
   "metadata": {},
   "source": [
    "## CNN Model with Image Augmentation\n",
    "This is the same as Model #1, but with image augmentation so that the model trains on slightly different images in each epoch"
   ]
  },
  {
   "cell_type": "markdown",
   "id": "8746ce63-2a24-4ab9-af10-d5699cd6c006",
   "metadata": {},
   "source": [
    "### Imports "
   ]
  },
  {
   "cell_type": "code",
   "execution_count": 1,
   "id": "e0953519-4400-4eb6-8063-e37a3922e47b",
   "metadata": {},
   "outputs": [],
   "source": [
    "# imports\n",
    "import matplotlib.pyplot as plt\n",
    "import numpy as np\n",
    "import os\n",
    "import pandas as pd\n",
    "\n",
    "from tensorflow.keras.layers import Dense, Dropout, Flatten, Conv2D, MaxPooling2D\n",
    "from tensorflow.keras.models import Sequential\n",
    "from tensorflow.keras.preprocessing.image import img_to_array, load_img\n",
    "from tensorflow.keras.utils import to_categorical\n",
    "\n",
    "from sklearn.model_selection import train_test_split\n",
    "\n",
    "from sklearn.metrics import confusion_matrix, ConfusionMatrixDisplay\n",
    "\n",
    "from tensorflow.keras.models import Model\n",
    "\n",
    "from tensorflow.keras.preprocessing.image import ImageDataGenerator"
   ]
  },
  {
   "cell_type": "code",
   "execution_count": 2,
   "id": "c2c89846-21e1-4313-9517-e6ee4f354058",
   "metadata": {},
   "outputs": [],
   "source": [
    "# Setting a random seed for reproducibility\n",
    "np.random.seed(42)"
   ]
  },
  {
   "cell_type": "markdown",
   "id": "663277fd-f709-4b4f-942f-ccd6373ac0b4",
   "metadata": {},
   "source": [
    "### Reading in image data as X and y"
   ]
  },
  {
   "cell_type": "code",
   "execution_count": 3,
   "id": "0b4c9d01-320a-4a00-8bbc-f7901c07c9a5",
   "metadata": {
    "tags": []
   },
   "outputs": [],
   "source": [
    "# specify the path with the subfolders of cleaned eye images (each subfolder is an eye condition)\n",
    "clean_path = './cleaned_eye_images/'\n",
    "\n",
    "# the target y is the eye condition \n",
    "# make a dictionary of eye conditions and integers because y needs to be a number, not a string\n",
    "condition_dict = {'normal':0, 'retinopathy': 1, 'glaucoma':2, 'cataracts':3}\n",
    "\n",
    "# make empty lists for X and y\n",
    "X=[]\n",
    "y=[]\n",
    "\n",
    "# iterate through each subfolder (= condition)\n",
    "for condition in os.listdir(clean_path):\n",
    "    \n",
    "    # make sure the subfolder is actually the name of a condition (e.g., not 'DS_Store')\n",
    "    if condition in condition_dict.keys():\n",
    "        \n",
    "        # iterate through each image file in the subfolder\n",
    "        for file in os.listdir(clean_path+condition):\n",
    "            \n",
    "            # added a try/except so that DS_Store files don't trip an error\n",
    "            try:\n",
    "                # load the image file\n",
    "                image = load_img(clean_path+condition+'/'+file)\n",
    "                \n",
    "                # convert the image to an array and normalize it by dividing by 255\n",
    "                # now normalizing with the ImageGenerator instead\n",
    "                #image_arr = img_to_array(image) / 255\n",
    "                \n",
    "                image_arr = img_to_array(image)\n",
    "                \n",
    "                # add the image array to X\n",
    "                X.append(image_arr)\n",
    "                \n",
    "                # use the condition_dict to add the right number to y that corresponds to the eye condition\n",
    "                y.append(condition_dict[condition])\n",
    "                \n",
    "            except:\n",
    "                continue"
   ]
  },
  {
   "cell_type": "code",
   "execution_count": 4,
   "id": "88b02733-4474-462d-b925-33ae0685ad00",
   "metadata": {},
   "outputs": [],
   "source": [
    "# change X and y into numpy arrays\n",
    "X = np.array(X)\n",
    "y = np.array(y)"
   ]
  },
  {
   "cell_type": "code",
   "execution_count": 5,
   "id": "187d5ce9-2c91-4cd9-acd3-e433a3140c24",
   "metadata": {},
   "outputs": [
    {
     "data": {
      "text/plain": [
       "numpy.ndarray"
      ]
     },
     "execution_count": 5,
     "metadata": {},
     "output_type": "execute_result"
    }
   ],
   "source": [
    "type(X)"
   ]
  },
  {
   "cell_type": "code",
   "execution_count": 6,
   "id": "8f987109-7dd2-43a3-9b5e-13f886ddc3fc",
   "metadata": {},
   "outputs": [
    {
     "data": {
      "text/plain": [
       "(1664, 512, 512, 3)"
      ]
     },
     "execution_count": 6,
     "metadata": {},
     "output_type": "execute_result"
    }
   ],
   "source": [
    "# checking the shape of X\n",
    "# there are 1664 512x512 images with 3 channels (RGB)\n",
    "X.shape"
   ]
  },
  {
   "cell_type": "code",
   "execution_count": 7,
   "id": "733962dd-2e80-4dd8-a8b8-77bfc3d8806e",
   "metadata": {},
   "outputs": [
    {
     "data": {
      "text/plain": [
       "(1664,)"
      ]
     },
     "execution_count": 7,
     "metadata": {},
     "output_type": "execute_result"
    }
   ],
   "source": [
    "# y matches the number of images in X\n",
    "y.shape"
   ]
  },
  {
   "cell_type": "code",
   "execution_count": 8,
   "id": "6054411e-9e8c-4e96-8975-442271b204ef",
   "metadata": {},
   "outputs": [],
   "source": [
    "# y is categorical so we need to one-hot-encode it\n",
    "\n",
    "# learned about to_categorical here:\n",
    "# https://www.tensorflow.org/api_docs/python/tf/keras/utils/to_categorical\n",
    "\n",
    "y = to_categorical(y)"
   ]
  },
  {
   "cell_type": "markdown",
   "id": "164e147d-db8f-41b7-b481-2bae672c7c55",
   "metadata": {},
   "source": [
    "### Train-Test Split"
   ]
  },
  {
   "cell_type": "code",
   "execution_count": 9,
   "id": "943563d9-49f4-4888-8331-27f9407112a4",
   "metadata": {},
   "outputs": [],
   "source": [
    "# regular train-test-split \n",
    "# no need for StandardScaler because the images have already been normalized\n",
    "\n",
    "# changed test_size to 384 so test and train sizes are both divisible by 64, the batch_size\n",
    "# to use with image augmentation\n",
    "X_train, X_test, y_train, y_test = train_test_split(X, y, test_size=384, random_state=42, stratify=y)"
   ]
  },
  {
   "cell_type": "code",
   "execution_count": 10,
   "id": "3d49ffa5-fa42-4272-be33-965cc9930b79",
   "metadata": {},
   "outputs": [
    {
     "data": {
      "text/plain": [
       "(1280, 512, 512, 3)"
      ]
     },
     "execution_count": 10,
     "metadata": {},
     "output_type": "execute_result"
    }
   ],
   "source": [
    "X_train.shape"
   ]
  },
  {
   "cell_type": "markdown",
   "id": "1d7839fb-ddb6-4fcc-9649-af1dc8869f89",
   "metadata": {},
   "source": [
    "### Image Augmentation "
   ]
  },
  {
   "cell_type": "code",
   "execution_count": 11,
   "id": "a922fc48-3022-4b6b-9be3-aae4511b3fac",
   "metadata": {},
   "outputs": [],
   "source": [
    "image_generator_train = ImageDataGenerator(rescale=1.0/255.0, horizontal_flip=True, rotation_range=30)\n",
    "\n",
    "image_generator_test = ImageDataGenerator(rescale=1.0/255.0)\n",
    "\n",
    "image_generator_train.fit(X_train)"
   ]
  },
  {
   "cell_type": "markdown",
   "id": "776dd38a-1bde-4403-9502-33d18d2c2dc1",
   "metadata": {},
   "source": [
    "### Building the CNN Model"
   ]
  },
  {
   "cell_type": "code",
   "execution_count": 12,
   "id": "6baaeb65-65c3-417c-b882-56e3bc73d13d",
   "metadata": {},
   "outputs": [],
   "source": [
    "# Instantiate a Sequential model (that will process each layer sequentially)\n",
    "model = Sequential()"
   ]
  },
  {
   "cell_type": "code",
   "execution_count": 13,
   "id": "207bcbf3-ec8f-4d3c-a8a8-2f9abc454857",
   "metadata": {},
   "outputs": [],
   "source": [
    "# add a Convolutional 2D layer that will create 16 3x3 filters to detect image features\n",
    "\n",
    "# starting with a small number of features and increasing them for each layer is recommended because\n",
    "# the model finds the smaller number of main features first and then builds them up into more complex larger numbers of features\n",
    "\n",
    "# the input shape is 512x512 pixels with 3 channels (RGB)\n",
    "# we chose 512x512 because we wanted smaller files, but didn't want to lose too much data by shrinking them too much\n",
    "# many of the original image files were much bigger (e.g., 2464×1632, 3GB)\n",
    "# in the CNN lesson, images were scaled to 256x256, but they weren't medical images, and that seemed too small\n",
    "# 512x512 is double the size from the lesson\n",
    "# also, one of the kaggle datasets included preprocessed images which had been resized to 512x512\n",
    "# we decided to try this image size \n",
    "\n",
    "# using relu (rectified linear function) activation, which returns positive output directly and returns 0 for negative output\n",
    "\n",
    "model.add(Conv2D(16, (3,3), activation='relu', input_shape=(512,512,3)))"
   ]
  },
  {
   "cell_type": "code",
   "execution_count": 14,
   "id": "2267b39c-9f9a-4740-b6dd-faccf985ed14",
   "metadata": {},
   "outputs": [],
   "source": [
    "# add a MaxPooling 2D layer that will take the maximum value in every 2x2 grid (with a stride defaulting to the pool_size)\n",
    "# this effectively cuts the dimensions of the data in half, and helps get rid of noise caused by small variations in the image\n",
    "\n",
    "model.add(MaxPooling2D(pool_size=(2,2)))"
   ]
  },
  {
   "cell_type": "code",
   "execution_count": 15,
   "id": "476205ad-de18-4027-b8c5-0f180d94c004",
   "metadata": {},
   "outputs": [],
   "source": [
    "# add more convolutional layers (with max pooling between each one) \n",
    "\n",
    "# increasing filters to 32\n",
    "# input shape is only needed for the first layer above\n",
    "model.add(Conv2D(32, (3,3), activation='relu'))\n",
    "model.add(MaxPooling2D((2,2)))\n",
    "\n",
    "model.add(Conv2D(32, (3,3), activation='relu'))\n",
    "model.add(MaxPooling2D((2,2)))\n",
    "\n",
    "# increasing filters to 64\n",
    "model.add(Conv2D(64, (3,3), activation='relu'))\n",
    "model.add(MaxPooling2D((2,2)))"
   ]
  },
  {
   "cell_type": "code",
   "execution_count": 16,
   "id": "7a2dea11-4860-481f-8355-c9044640a48c",
   "metadata": {},
   "outputs": [],
   "source": [
    "# add a flatten layer to bridge between the convolutional layers and the dense layers\n",
    "model.add(Flatten())"
   ]
  },
  {
   "cell_type": "code",
   "execution_count": 17,
   "id": "6dbb87d6-f17c-4068-9020-45982992a2dd",
   "metadata": {},
   "outputs": [],
   "source": [
    "# the dense layer analyzes the features that were identified in the convolutional layers \n",
    "model.add(Dense(256, activation='relu'))\n",
    "\n",
    "model.add(Dense(256, activation='relu'))"
   ]
  },
  {
   "cell_type": "code",
   "execution_count": 18,
   "id": "987b4e18-8c1b-4966-8901-0fe58b61f989",
   "metadata": {},
   "outputs": [],
   "source": [
    "# add the output layer\n",
    "# if there are multiple classes (not binary), change the nodes to the number of classes and use softmax activation\n",
    "# if it's binary, use sigmoid activation\n",
    "model.add(Dense(4, activation='softmax'))"
   ]
  },
  {
   "cell_type": "code",
   "execution_count": 19,
   "id": "f22ff4cb-96d0-49c3-b77b-a77f79804193",
   "metadata": {},
   "outputs": [],
   "source": [
    "# compile the model\n",
    "# if multiclass, use categorical_crossentropy \n",
    "# if binary, use binary_crossentropy\n",
    "model.compile(loss='categorical_crossentropy', metrics=['accuracy'], optimizer='adam')"
   ]
  },
  {
   "cell_type": "markdown",
   "id": "560a3217-f61f-47ba-8696-543c6acf28ba",
   "metadata": {},
   "source": [
    "### Fitting the Model"
   ]
  },
  {
   "cell_type": "code",
   "execution_count": 20,
   "id": "61749c92-481b-44c0-b03c-1d799c0038fd",
   "metadata": {},
   "outputs": [
    {
     "name": "stdout",
     "output_type": "stream",
     "text": [
      "Epoch 1/10\n",
      "20/20 [==============================] - 317s 15s/step - loss: 1.3015 - accuracy: 0.4086 - val_loss: 1.0910 - val_accuracy: 0.5286\n",
      "Epoch 2/10\n",
      "20/20 [==============================] - 281s 14s/step - loss: 0.9728 - accuracy: 0.5703 - val_loss: 0.9638 - val_accuracy: 0.5703\n",
      "Epoch 3/10\n",
      "20/20 [==============================] - 290s 14s/step - loss: 0.7793 - accuracy: 0.6812 - val_loss: 0.8769 - val_accuracy: 0.6484\n",
      "Epoch 4/10\n",
      "20/20 [==============================] - 220s 11s/step - loss: 0.7480 - accuracy: 0.6883 - val_loss: 0.6754 - val_accuracy: 0.6849\n",
      "Epoch 5/10\n",
      "20/20 [==============================] - 213s 10s/step - loss: 0.6516 - accuracy: 0.7055 - val_loss: 0.7319 - val_accuracy: 0.6901\n",
      "Epoch 6/10\n",
      "20/20 [==============================] - 205s 10s/step - loss: 0.6586 - accuracy: 0.7078 - val_loss: 0.6861 - val_accuracy: 0.7109\n",
      "Epoch 7/10\n",
      "20/20 [==============================] - 252s 12s/step - loss: 0.6359 - accuracy: 0.7164 - val_loss: 0.7319 - val_accuracy: 0.6797\n",
      "Epoch 8/10\n",
      "20/20 [==============================] - 212s 10s/step - loss: 0.6040 - accuracy: 0.7328 - val_loss: 0.6606 - val_accuracy: 0.6979\n",
      "Epoch 9/10\n",
      "20/20 [==============================] - 207s 10s/step - loss: 0.6171 - accuracy: 0.7273 - val_loss: 0.6892 - val_accuracy: 0.6953\n",
      "Epoch 10/10\n",
      "20/20 [==============================] - 216s 11s/step - loss: 0.5816 - accuracy: 0.7461 - val_loss: 0.6455 - val_accuracy: 0.7448\n"
     ]
    }
   ],
   "source": [
    "# fit the model and save it as h so the accuracy and loss scores for each epoch can be visualized\n",
    "# batch size is the number of images processed before updating the metrics\n",
    "# epochs is the number of times the model goes through the entire dataset\n",
    "\n",
    "# changing batch size to be divisible by the number of images in X_train\n",
    "h = model.fit(image_generator_train.flow(X_train, y_train, batch_size=64), validation_data=(image_generator_test.flow(X_test, y_test, batch_size=64)), steps_per_epoch=20, epochs=10)"
   ]
  },
  {
   "cell_type": "markdown",
   "id": "1ae000bc-fd50-46c0-88fc-9cf9d39e1466",
   "metadata": {},
   "source": [
    "This model, without any regularization, reaches about 73% validation accuracy before becoming very overfit. We didn't add early stopping, so the final results of this model reflect the last epoch and gave a training accuracy of 82% and a validation accuracy of 72%"
   ]
  },
  {
   "cell_type": "markdown",
   "id": "f4038efa-c62e-4a36-b044-652eccb55eb4",
   "metadata": {},
   "source": [
    "### Saving the Model"
   ]
  },
  {
   "cell_type": "code",
   "execution_count": null,
   "id": "c93aae34-835f-4dfb-adf3-c0fb2492b7b4",
   "metadata": {},
   "outputs": [],
   "source": [
    "# code to save the model as an h5 file so that it can be used in Flask\n",
    "\n",
    "# however, h5 files are huge, so we're commenting out the code so it doesn't run again by accident\n",
    "#model.save('model_1.h5')"
   ]
  },
  {
   "cell_type": "markdown",
   "id": "501cd77b-cb33-4491-88c5-87793dc81b46",
   "metadata": {},
   "source": [
    "### Visualizing the accuracy and loss scores for each epoch"
   ]
  },
  {
   "cell_type": "code",
   "execution_count": 21,
   "id": "bb492adc-c09e-4464-a211-bef1b5847fe4",
   "metadata": {},
   "outputs": [
    {
     "data": {
      "image/png": "[encoded data removed]",
      "text/plain": [
       "<Figure size 432x288 with 1 Axes>"
      ]
     },
     "metadata": {
      "needs_background": "light"
     },
     "output_type": "display_data"
    }
   ],
   "source": [
    "plt.plot(h.history['accuracy'], label='accuracy')\n",
    "plt.plot(h.history['val_accuracy'], label='val accuracy')\n",
    "plt.legend();"
   ]
  },
  {
   "cell_type": "markdown",
   "id": "e7d4329c-cdbf-420f-9b0c-f603c002c24a",
   "metadata": {},
   "source": [
    "This plot is similar to the accuracy plot for model 1, which had no image augmentation, but the validation accuracy doesn't diverge as much from the training accuracy. In model 1, it didn't look like additional epochs would be useful because the model was starting to look overfit. Here, it looks like there is more room for the model to learn before it becomes overfit, and it would be good to try increasing the number of epochs. Even though the overall accuracy of this model isn't as good as the accuracy for model 1, it's close, and the fact that it's not overfit is a very good sign."
   ]
  },
  {
   "cell_type": "code",
   "execution_count": 22,
   "id": "282dc536-63e6-4681-a172-99bd2d4739fc",
   "metadata": {},
   "outputs": [
    {
     "data": {
      "image/png": "[encoded data removed]",
      "text/plain": [
       "<Figure size 432x288 with 1 Axes>"
      ]
     },
     "metadata": {
      "needs_background": "light"
     },
     "output_type": "display_data"
    }
   ],
   "source": [
    "plt.plot(h.history['loss'], label='training loss')\n",
    "plt.plot(h.history['val_loss'], label='validation loss')\n",
    "plt.legend();"
   ]
  },
  {
   "cell_type": "markdown",
   "id": "5e5295e9-0776-4548-bd19-dd9702dcfdfd",
   "metadata": {},
   "source": [
    "This plot shows the sharp drop in training loss at epoch one followed by minimal but consistent training loss after that. Validation loss also trends downward, but has a much smaller range. The validation loss diverges slightly from the training loss in the last epoch, but it's not enough to consider the model overfit."
   ]
  },
  {
   "cell_type": "markdown",
   "id": "fd4386aa-9f0c-4cdf-9480-02fb886ed8b1",
   "metadata": {},
   "source": [
    "### Generating Predictions"
   ]
  },
  {
   "cell_type": "code",
   "execution_count": 23,
   "id": "781b4a83-42da-4759-8c4c-a7a49d06a9b0",
   "metadata": {},
   "outputs": [],
   "source": [
    "# generate predictions from X_test\n",
    "preds = model.predict(X_test)"
   ]
  },
  {
   "cell_type": "code",
   "execution_count": 24,
   "id": "5f01e33b-9086-490f-ba43-304eaee86df4",
   "metadata": {},
   "outputs": [],
   "source": [
    "# change the list of prediction probabilities into predictions of a number 0-4 by taking the index of the max probability\n",
    "simple_preds = []\n",
    "for prediction in preds:\n",
    "    simple_preds.append(np.where(prediction == prediction.max())[0][0])"
   ]
  },
  {
   "cell_type": "code",
   "execution_count": 25,
   "id": "85a0955a-0099-4c47-b857-dd4c7e5caca0",
   "metadata": {},
   "outputs": [
    {
     "data": {
      "text/plain": [
       "array([1, 3, 3, 2, 1, 1, 1, 1, 1, 2, 1, 2, 1, 0, 2, 3, 3, 0, 2, 1, 3, 3,\n",
       "       3, 3, 1, 3, 3, 3, 1, 0, 0, 3, 1, 3, 3, 2, 2, 2, 2, 3, 2, 1, 1, 0,\n",
       "       0, 2, 1, 2, 3, 3, 1, 1, 1, 0, 3, 1, 3, 2, 1, 2, 3, 1, 3, 1, 1, 0,\n",
       "       2, 1, 3, 2, 2, 3, 2, 0, 1, 3, 3, 0, 2, 1, 0, 0, 2, 2, 3, 3, 1, 2,\n",
       "       1, 1, 2, 1, 1, 0, 2, 0, 0, 3, 1, 1, 2, 2, 3, 1, 1, 0, 1, 0, 2, 1,\n",
       "       2, 3, 0, 2, 3, 3, 1, 2, 3, 0, 2, 2, 2, 1, 1, 3, 1, 3, 3, 0, 3, 1,\n",
       "       1, 3, 3, 1, 2, 3, 0, 1, 3, 1, 2, 3, 2, 2, 1, 2, 3, 2, 3, 1, 2, 1,\n",
       "       0, 1, 2, 1, 1, 1, 3, 0, 2, 2, 2, 0, 3, 1, 1, 3, 0, 3, 1, 0, 3, 1,\n",
       "       2, 1, 0, 1, 1, 3, 3, 0, 3, 2, 0, 0, 0, 2, 0, 3, 3, 3, 2, 3, 1, 3,\n",
       "       0, 0, 0, 1, 2, 3, 0, 2, 2, 0, 2, 3, 1, 2, 3, 3, 0, 3, 0, 1, 3, 2,\n",
       "       3, 2, 0, 3, 3, 1, 2, 3, 3, 0, 1, 2, 2, 3, 2, 2, 2, 0, 2, 1, 2, 2,\n",
       "       1, 3, 0, 1, 3, 2, 1, 3, 1, 3, 2, 0, 2, 2, 3, 1, 1, 0, 0, 3, 3, 2,\n",
       "       3, 0, 3, 0, 3, 3, 3, 1, 1, 0, 1, 2, 0, 1, 1, 3, 2, 2, 0, 0, 0, 2,\n",
       "       3, 3, 2, 0, 0, 3, 2, 2, 2, 0, 0, 0, 3, 1, 1, 1, 1, 2, 3, 1, 2, 0,\n",
       "       1, 3, 1, 3, 3, 2, 2, 2, 1, 1, 2, 1, 1, 3, 0, 1, 1, 1, 3, 1, 2, 1,\n",
       "       2, 1, 2, 2, 1, 2, 2, 3, 0, 0, 2, 1, 3, 1, 3, 0, 2, 1, 2, 3, 3, 3,\n",
       "       0, 3, 1, 3, 2, 3, 1, 1, 1, 0, 3, 2, 3, 3, 2, 1, 3, 0, 2, 1, 1, 0,\n",
       "       0, 1, 1, 0, 3, 1, 3, 1, 3, 3])"
      ]
     },
     "execution_count": 25,
     "metadata": {},
     "output_type": "execute_result"
    }
   ],
   "source": [
    "# reverse-one-hot-encode y_test \n",
    "\n",
    "# learned about np.argmax here:\n",
    "# https://stackoverflow.com/questions/54143458/convert-categorical-data-back-to-numbers-using-keras-utils-to-categorical\n",
    "\n",
    "y_test_simple = np.argmax(y_test, axis=-1)\n",
    "\n",
    "# make sure it worked\n",
    "y_test_simple"
   ]
  },
  {
   "cell_type": "code",
   "execution_count": 26,
   "id": "18c2addf-7e56-4cb4-8c9d-811cf997d3e0",
   "metadata": {},
   "outputs": [
    {
     "data": {
      "image/png": "[encoded data removed]",
      "text/plain": [
       "<Figure size 432x288 with 2 Axes>"
      ]
     },
     "metadata": {
      "needs_background": "light"
     },
     "output_type": "display_data"
    }
   ],
   "source": [
    "# make and display a confusion matrix\n",
    "conf_matrix = confusion_matrix(y_test_simple, simple_preds)\n",
    "ConfusionMatrixDisplay(confusion_matrix=conf_matrix, display_labels=(list(condition_dict.keys()))).plot();"
   ]
  },
  {
   "cell_type": "markdown",
   "id": "a11b8223-03c9-478c-a267-af0d5209ace8",
   "metadata": {},
   "source": [
    "Compared to model 1, this model did better at identifying normal eye images but significantly struggled with distinguishing cataracts from glaucoma. This model also incorrectly labeled images as retinopathy a lot more often than model 1. "
   ]
  },
  {
   "cell_type": "markdown",
   "id": "547c0a1d-f43d-420b-a7a3-432b418c7a30",
   "metadata": {},
   "source": [
    "### Adding More Epochs\n",
    "Running the model through 5 more epochs after the initial 10 above"
   ]
  },
  {
   "cell_type": "code",
   "execution_count": 148,
   "id": "03541538-8390-4352-b1b5-cec7a5128e96",
   "metadata": {},
   "outputs": [
    {
     "name": "stdout",
     "output_type": "stream",
     "text": [
      "Epoch 1/5\n",
      "20/20 [==============================] - 328s 16s/step - loss: 0.5471 - accuracy: 0.7664 - val_loss: 0.6488 - val_accuracy: 0.7109\n",
      "Epoch 2/5\n",
      "20/20 [==============================] - 283s 14s/step - loss: 0.5355 - accuracy: 0.7672 - val_loss: 0.7079 - val_accuracy: 0.7083\n",
      "Epoch 3/5\n",
      "20/20 [==============================] - 274s 14s/step - loss: 0.5242 - accuracy: 0.7812 - val_loss: 0.6145 - val_accuracy: 0.7500\n",
      "Epoch 4/5\n",
      "20/20 [==============================] - 251s 12s/step - loss: 0.5394 - accuracy: 0.7711 - val_loss: 0.6941 - val_accuracy: 0.7031\n",
      "Epoch 5/5\n",
      "20/20 [==============================] - 246s 12s/step - loss: 0.5791 - accuracy: 0.7445 - val_loss: 0.6485 - val_accuracy: 0.7109\n"
     ]
    }
   ],
   "source": [
    "# seeing if this works\n",
    "\n",
    "# according to this, you can continue training on the same model as long as you don't re-compile it --\n",
    "# https://stackoverflow.com/questions/50572884/how-to-increasing-number-of-epoch-in-keras-conv-net\n",
    "\n",
    "h_more_epochs = model.fit(image_generator_train.flow(X_train, y_train, batch_size=64), validation_data=(image_generator_test.flow(X_test, y_test, batch_size=64)), steps_per_epoch=20, epochs=5)"
   ]
  },
  {
   "cell_type": "markdown",
   "id": "426c99bc-a44a-4bc8-b29c-eba594e172db",
   "metadata": {},
   "source": [
    "Adding 5 more epochs led to a maximum training accuracy of 78% and testing accuracy of 75% in epoch 3"
   ]
  },
  {
   "cell_type": "code",
   "execution_count": null,
   "id": "2d99d0de-7b7e-4ed6-b70f-1b545eda0524",
   "metadata": {},
   "outputs": [],
   "source": []
  },
  {
   "cell_type": "code",
   "execution_count": null,
   "id": "fccc665c-8f7f-4be7-82a3-d6cf2e6a6e2a",
   "metadata": {},
   "outputs": [],
   "source": []
  }
 ],
 "metadata": {
  "kernelspec": {
   "display_name": "Python 3",
   "language": "python",
   "name": "python3"
  },
  "language_info": {
   "codemirror_mode": {
    "name": "ipython",
    "version": 3
   },
   "file_extension": ".py",
   "mimetype": "text/x-python",
   "name": "python",
   "nbconvert_exporter": "python",
   "pygments_lexer": "ipython3",
   "version": "3.8.8"
  }
 },
 "nbformat": 4,
 "nbformat_minor": 5
}
