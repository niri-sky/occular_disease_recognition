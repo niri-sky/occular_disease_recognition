{
 "cells": [
  {
   "cell_type": "markdown",
   "id": "38f54474-6355-42b1-8c8d-a531822c58b1",
   "metadata": {},
   "source": [
    "## CNN Model with Image Augmentation: Detecting Cataracts\n",
    "This is the same as the [Image Augmentation CNN model used on eyes with Glaucoma](./CNN_image_aug_glauc.ipynb), applied to eyes with Cataracts.\n",
    "\n",
    "The only change made to the model was to adjust the EarlyStopping callback so that the model would run for additional epochs.\n",
    "\n",
    "This notebook includes some code comments and markdown explanations, but the notebook for the Glaucoma model has more robust commenting that is not repeated here if it would be the same."
   ]
  },
  {
   "cell_type": "markdown",
   "id": "8746ce63-2a24-4ab9-af10-d5699cd6c006",
   "metadata": {},
   "source": [
    "### Imports "
   ]
  },
  {
   "cell_type": "code",
   "execution_count": 5,
   "id": "e0953519-4400-4eb6-8063-e37a3922e47b",
   "metadata": {},
   "outputs": [],
   "source": [
    "import matplotlib.pyplot as plt\n",
    "import numpy as np\n",
    "import os\n",
    "import pandas as pd\n",
    "\n",
    "from tensorflow.keras.layers import Dense, Dropout, Flatten, Conv2D, MaxPooling2D\n",
    "from tensorflow.keras.models import Sequential, Model\n",
    "from tensorflow.keras.preprocessing.image import img_to_array, load_img, ImageDataGenerator\n",
    "from tensorflow.keras.callbacks import EarlyStopping\n",
    "\n",
    "from sklearn.model_selection import train_test_split\n",
    "from sklearn.metrics import confusion_matrix, ConfusionMatrixDisplay, classification_report"
   ]
  },
  {
   "cell_type": "code",
   "execution_count": 6,
   "id": "c2c89846-21e1-4313-9517-e6ee4f354058",
   "metadata": {},
   "outputs": [],
   "source": [
    "# Setting a random seed for reproducibility\n",
    "np.random.seed(42)"
   ]
  },
  {
   "cell_type": "markdown",
   "id": "663277fd-f709-4b4f-942f-ccd6373ac0b4",
   "metadata": {},
   "source": [
    "### Reading in image data as X and y"
   ]
  },
  {
   "cell_type": "code",
   "execution_count": 7,
   "id": "0b4c9d01-320a-4a00-8bbc-f7901c07c9a5",
   "metadata": {
    "tags": []
   },
   "outputs": [],
   "source": [
    "# specify the path with the subfolders of cleaned eye images\n",
    "clean_path = '../data/cleaned_eye_images/'\n",
    "\n",
    "# make a dictionary of eye conditions and integers because y needs to be a number, not a string\n",
    "# setting the condition to be 1 so that 'positive' results mean the eye has the condition\n",
    "condition_dict = {'cataracts':1, 'normal': 0}\n",
    "\n",
    "# make empty lists for X and y\n",
    "X=[]\n",
    "y=[]\n",
    "\n",
    "# iterate through each subfolder (= condition)\n",
    "for condition in os.listdir(clean_path):\n",
    "    \n",
    "    # make sure the subfolder is actually the name of a condition (e.g., not 'DS_Store')\n",
    "    if condition in condition_dict.keys():\n",
    "        \n",
    "        # allows you to specify how many images to collect from each folder\n",
    "        # this allows the final number to be divisible by the desired batch size\n",
    "        number=0\n",
    "        total_num = 468\n",
    "        \n",
    "        # iterate through each image file in the subfolder\n",
    "        for file in os.listdir(clean_path+condition):\n",
    "            \n",
    "            if number < total_num:\n",
    "            \n",
    "            # added a try/except so that DS_Store files don't trip an error\n",
    "                try:\n",
    "                    # load the image file\n",
    "                    image = load_img(clean_path+condition+'/'+file)\n",
    "                   \n",
    "                    # turn the image into an array\n",
    "                    image_arr = img_to_array(image)\n",
    "                \n",
    "                    # add the image array to X\n",
    "                    X.append(image_arr)\n",
    "                \n",
    "                    # use the condition_dict to add the right number to y that corresponds to the eye condition\n",
    "                    y.append(condition_dict[condition])\n",
    "                    \n",
    "                    number+=1\n",
    "                \n",
    "                except:\n",
    "                    continue"
   ]
  },
  {
   "cell_type": "code",
   "execution_count": 8,
   "id": "88b02733-4474-462d-b925-33ae0685ad00",
   "metadata": {},
   "outputs": [],
   "source": [
    "# change X and y into numpy arrays\n",
    "X = np.array(X)\n",
    "y = np.array(y)"
   ]
  },
  {
   "cell_type": "code",
   "execution_count": 9,
   "id": "8f987109-7dd2-43a3-9b5e-13f886ddc3fc",
   "metadata": {},
   "outputs": [
    {
     "data": {
      "text/plain": [
       "(768, 512, 512, 3)"
      ]
     },
     "execution_count": 9,
     "metadata": {},
     "output_type": "execute_result"
    }
   ],
   "source": [
    "# checking the shape of X\n",
    "# there are 768 512x512 images with 3 channels (RGB)\n",
    "X.shape"
   ]
  },
  {
   "cell_type": "code",
   "execution_count": 10,
   "id": "733962dd-2e80-4dd8-a8b8-77bfc3d8806e",
   "metadata": {},
   "outputs": [
    {
     "data": {
      "text/plain": [
       "(768,)"
      ]
     },
     "execution_count": 10,
     "metadata": {},
     "output_type": "execute_result"
    }
   ],
   "source": [
    "# y matches the number of images in X\n",
    "y.shape"
   ]
  },
  {
   "cell_type": "markdown",
   "id": "8c695f4c-fec2-4daa-8b6c-bac4b42f7fb5",
   "metadata": {},
   "source": [
    "### Baseline Model\n",
    "Our dataset is unevenly distributed between normal eyes and eyes with cataracts, and the model needs to make correct predictions more than 60.9% of the time to beat the baseline."
   ]
  },
  {
   "cell_type": "code",
   "execution_count": 11,
   "id": "a64c2897-05c8-45ff-a8f4-76216601e05d",
   "metadata": {},
   "outputs": [
    {
     "name": "stdout",
     "output_type": "stream",
     "text": [
      "There are 300 non-diseased eye images and 468 images of eyes with cataracts in the dataset.\n",
      "This gives a baseline accuracy of 0.609\n"
     ]
    }
   ],
   "source": [
    "print(f'There are {len(y)-y.sum()} non-diseased eye images and {y.sum()} images of eyes with cataracts in the dataset.')\n",
    "\n",
    "# Since y is binary with values of 0 and 1, the baseline accuracy can be found by summing y and dividing by the length of y\n",
    "# The baseline accuracy is the higher of this value and 1 - this value\n",
    "# rounding the numbers to 3 places to make the formatting nicer\n",
    "print(f'This gives a baseline accuracy of {round(np.array([(y.sum() / len(y)),(1-(y.sum()/len(y)))]).max(), 3)}')"
   ]
  },
  {
   "cell_type": "markdown",
   "id": "164e147d-db8f-41b7-b481-2bae672c7c55",
   "metadata": {},
   "source": [
    "### Train-Test Split"
   ]
  },
  {
   "cell_type": "code",
   "execution_count": 12,
   "id": "943563d9-49f4-4888-8331-27f9407112a4",
   "metadata": {},
   "outputs": [],
   "source": [
    "# regular train-test-split \n",
    "# no need for StandardScaler because the images have already been normalized\n",
    "\n",
    "# changed test_size to 128 so test and train sizes are both divisible by 64, the batch_size\n",
    "# to use with image augmentation\n",
    "X_train, X_test, y_train, y_test = train_test_split(X, y, test_size=128, random_state=42, stratify=y)"
   ]
  },
  {
   "cell_type": "code",
   "execution_count": 13,
   "id": "3d49ffa5-fa42-4272-be33-965cc9930b79",
   "metadata": {},
   "outputs": [
    {
     "data": {
      "text/plain": [
       "(640, 512, 512, 3)"
      ]
     },
     "execution_count": 13,
     "metadata": {},
     "output_type": "execute_result"
    }
   ],
   "source": [
    "X_train.shape"
   ]
  },
  {
   "cell_type": "markdown",
   "id": "1d7839fb-ddb6-4fcc-9649-af1dc8869f89",
   "metadata": {},
   "source": [
    "### Image Augmentation "
   ]
  },
  {
   "cell_type": "code",
   "execution_count": 14,
   "id": "a922fc48-3022-4b6b-9be3-aae4511b3fac",
   "metadata": {},
   "outputs": [],
   "source": [
    "# creating the same ImageDataGenerators as the ones made in the Glaucoma model\n",
    "\n",
    "image_generator_train = ImageDataGenerator(rescale=1.0/255.0, horizontal_flip=True, rotation_range=30, brightness_range=(.8,1.2))\n",
    "image_generator_test = ImageDataGenerator(rescale=1.0/255.0)\n",
    "image_generator_train.fit(X_train)"
   ]
  },
  {
   "cell_type": "markdown",
   "id": "776dd38a-1bde-4403-9502-33d18d2c2dc1",
   "metadata": {},
   "source": [
    "### Building the CNN Model"
   ]
  },
  {
   "cell_type": "code",
   "execution_count": 15,
   "id": "6baaeb65-65c3-417c-b882-56e3bc73d13d",
   "metadata": {},
   "outputs": [],
   "source": [
    "# Instantiate a Sequential model (that will process each layer sequentially)\n",
    "model = Sequential()"
   ]
  },
  {
   "cell_type": "code",
   "execution_count": 16,
   "id": "207bcbf3-ec8f-4d3c-a8a8-2f9abc454857",
   "metadata": {},
   "outputs": [],
   "source": [
    "# add a Convolutional 2D layer that will create 16 3x3 filters to detect image features\n",
    "\n",
    "model.add(Conv2D(16, (3,3), activation='relu', input_shape=(512,512,3)))"
   ]
  },
  {
   "cell_type": "code",
   "execution_count": 17,
   "id": "2267b39c-9f9a-4740-b6dd-faccf985ed14",
   "metadata": {},
   "outputs": [],
   "source": [
    "# add a MaxPooling 2D layer that will take the maximum value in every 2x2 grid (with a stride defaulting to the pool_size)\n",
    "# this effectively cuts the dimensions of the data in half, and helps get rid of noise caused by small variations in the image\n",
    "\n",
    "model.add(MaxPooling2D(pool_size=(2,2)))"
   ]
  },
  {
   "cell_type": "code",
   "execution_count": 18,
   "id": "476205ad-de18-4027-b8c5-0f180d94c004",
   "metadata": {},
   "outputs": [],
   "source": [
    "# add more convolutional layers (with max pooling between each one) \n",
    "\n",
    "# increasing filters to 32\n",
    "# input shape is only needed for the first layer above\n",
    "model.add(Conv2D(32, (3,3), activation='relu'))\n",
    "model.add(MaxPooling2D((2,2)))\n",
    "\n",
    "model.add(Conv2D(32, (3,3), activation='relu'))\n",
    "model.add(MaxPooling2D((2,2)))\n",
    "\n",
    "# increasing filters to 64\n",
    "model.add(Conv2D(64, (3,3), activation='relu'))\n",
    "model.add(MaxPooling2D((2,2)))"
   ]
  },
  {
   "cell_type": "code",
   "execution_count": 19,
   "id": "7a2dea11-4860-481f-8355-c9044640a48c",
   "metadata": {},
   "outputs": [],
   "source": [
    "# add a flatten layer to bridge between the convolutional layers and the dense layers\n",
    "model.add(Flatten())"
   ]
  },
  {
   "cell_type": "code",
   "execution_count": 20,
   "id": "6dbb87d6-f17c-4068-9020-45982992a2dd",
   "metadata": {},
   "outputs": [],
   "source": [
    "# the dense layers analyze the features that were identified in the convolutional layers \n",
    "model.add(Dense(256, activation='relu'))\n",
    "model.add(Dense(256, activation='relu'))"
   ]
  },
  {
   "cell_type": "code",
   "execution_count": 21,
   "id": "987b4e18-8c1b-4966-8901-0fe58b61f989",
   "metadata": {},
   "outputs": [],
   "source": [
    "# add the output layer with sigmoid activatin since it's a binary classification\n",
    "model.add(Dense(1, activation='sigmoid'))"
   ]
  },
  {
   "cell_type": "code",
   "execution_count": 22,
   "id": "f22ff4cb-96d0-49c3-b77b-a77f79804193",
   "metadata": {},
   "outputs": [],
   "source": [
    "# compile the model using binary_crossentropy, accuracy metrics, and the adam optimizer\n",
    "model.compile(loss='binary_crossentropy', metrics=['accuracy'], optimizer='adam')"
   ]
  },
  {
   "cell_type": "markdown",
   "id": "560a3217-f61f-47ba-8696-543c6acf28ba",
   "metadata": {},
   "source": [
    "### Fitting the Model\n",
    "\n",
    "The model is the same as the model used for glaucoma and diabetic retinopathy, with the minor adjustment of altering the min_delta of the EarlyStopping callback so that the model would run for more epochs. This was done because the other two models appeared to stop too early -- the models were not improving much, but they also weren't overfit and it was unclear if the model could still improve with more training."
   ]
  },
  {
   "cell_type": "code",
   "execution_count": 23,
   "id": "6c22078e-bee0-4f13-844c-52e9abd1c37e",
   "metadata": {},
   "outputs": [],
   "source": [
    "# add early stopping\n",
    "\n",
    "# changing the min_delta to .001 instead of .01 to see what happens when the model doesn't stop so early\n",
    "# this is the only change between this model and the Glaucoma and Diabetic Retinopathy models (aside from the inputs)\n",
    "\n",
    "early_stop = EarlyStopping(monitor='val_loss', min_delta=.001, patience=5, verbose=1, mode='auto')"
   ]
  },
  {
   "cell_type": "code",
   "execution_count": 24,
   "id": "61749c92-481b-44c0-b03c-1d799c0038fd",
   "metadata": {},
   "outputs": [
    {
     "name": "stdout",
     "output_type": "stream",
     "text": [
      "Epoch 1/30\n",
      "20/20 [==============================] - 125s 6s/step - loss: 0.5451 - accuracy: 0.6797 - val_loss: 0.2760 - val_accuracy: 0.8828\n",
      "Epoch 2/30\n",
      "20/20 [==============================] - 109s 5s/step - loss: 0.3477 - accuracy: 0.8578 - val_loss: 0.2871 - val_accuracy: 0.8750\n",
      "Epoch 3/30\n",
      "20/20 [==============================] - 108s 5s/step - loss: 0.3008 - accuracy: 0.8672 - val_loss: 0.2563 - val_accuracy: 0.9062\n",
      "Epoch 4/30\n",
      "20/20 [==============================] - 105s 5s/step - loss: 0.2615 - accuracy: 0.8875 - val_loss: 0.2649 - val_accuracy: 0.8828\n",
      "Epoch 5/30\n",
      "20/20 [==============================] - 105s 5s/step - loss: 0.2514 - accuracy: 0.9156 - val_loss: 0.1922 - val_accuracy: 0.9219\n",
      "Epoch 6/30\n",
      "20/20 [==============================] - 107s 5s/step - loss: 0.2361 - accuracy: 0.9156 - val_loss: 0.1859 - val_accuracy: 0.9141\n",
      "Epoch 7/30\n",
      "20/20 [==============================] - 105s 5s/step - loss: 0.1874 - accuracy: 0.9297 - val_loss: 0.2079 - val_accuracy: 0.9297\n",
      "Epoch 8/30\n",
      "20/20 [==============================] - 105s 5s/step - loss: 0.2124 - accuracy: 0.9187 - val_loss: 0.1800 - val_accuracy: 0.9453\n",
      "Epoch 9/30\n",
      "20/20 [==============================] - 106s 5s/step - loss: 0.2226 - accuracy: 0.9156 - val_loss: 0.1668 - val_accuracy: 0.9375\n",
      "Epoch 10/30\n",
      "20/20 [==============================] - 104s 5s/step - loss: 0.1850 - accuracy: 0.9359 - val_loss: 0.1618 - val_accuracy: 0.9219\n",
      "Epoch 11/30\n",
      "20/20 [==============================] - 107s 5s/step - loss: 0.1888 - accuracy: 0.9219 - val_loss: 0.2296 - val_accuracy: 0.8984\n",
      "Epoch 12/30\n",
      "20/20 [==============================] - 104s 5s/step - loss: 0.1733 - accuracy: 0.9297 - val_loss: 0.1513 - val_accuracy: 0.9453\n",
      "Epoch 13/30\n",
      "20/20 [==============================] - 106s 5s/step - loss: 0.1650 - accuracy: 0.9297 - val_loss: 0.1539 - val_accuracy: 0.9375\n",
      "Epoch 14/30\n",
      "20/20 [==============================] - 108s 5s/step - loss: 0.1712 - accuracy: 0.9391 - val_loss: 0.1361 - val_accuracy: 0.9453\n",
      "Epoch 15/30\n",
      "20/20 [==============================] - 105s 5s/step - loss: 0.1569 - accuracy: 0.9359 - val_loss: 0.1351 - val_accuracy: 0.9453\n",
      "Epoch 16/30\n",
      "20/20 [==============================] - 104s 5s/step - loss: 0.1477 - accuracy: 0.9469 - val_loss: 0.1251 - val_accuracy: 0.9531\n",
      "Epoch 17/30\n",
      "20/20 [==============================] - 107s 5s/step - loss: 0.1912 - accuracy: 0.9344 - val_loss: 0.1690 - val_accuracy: 0.9453\n",
      "Epoch 18/30\n",
      "20/20 [==============================] - 105s 5s/step - loss: 0.1819 - accuracy: 0.9453 - val_loss: 0.1894 - val_accuracy: 0.9141\n",
      "Epoch 19/30\n",
      "20/20 [==============================] - 105s 5s/step - loss: 0.1705 - accuracy: 0.9406 - val_loss: 0.1759 - val_accuracy: 0.9297\n",
      "Epoch 20/30\n",
      "20/20 [==============================] - 106s 5s/step - loss: 0.1713 - accuracy: 0.9250 - val_loss: 0.1923 - val_accuracy: 0.9375\n",
      "Epoch 21/30\n",
      "20/20 [==============================] - 104s 5s/step - loss: 0.2388 - accuracy: 0.8984 - val_loss: 0.2316 - val_accuracy: 0.8906\n",
      "Epoch 00021: early stopping\n"
     ]
    }
   ],
   "source": [
    "# fit the model and save it as h so the accuracy and loss scores for each epoch can be visualized\n",
    "\n",
    "# use a batch size be divisible by the number of images in X_train\n",
    "h = model.fit(image_generator_train.flow(X_train, y_train, batch_size=32, seed=42), validation_data=(image_generator_test.flow(X_test, y_test, batch_size=32, seed=42)), steps_per_epoch=len(X_train)/32, epochs=30, callbacks=[early_stop])"
   ]
  },
  {
   "cell_type": "markdown",
   "id": "1ae000bc-fd50-46c0-88fc-9cf9d39e1466",
   "metadata": {},
   "source": [
    "This model stops early after 21 epochs (several more than the number of epochs the other disease models trained on, when the EarlyStopping callback was set to a higher min_delta). It achieved some of the highest training and testing accuracy out of the 3 models during the middle of training, reaching almost 95%, but ended at lower accuracy with 89.8% and 89.1% respectively for training and testing accuracy. The model is not overfit, but it's unclear if additional training would improve the model. "
   ]
  },
  {
   "cell_type": "markdown",
   "id": "f4038efa-c62e-4a36-b044-652eccb55eb4",
   "metadata": {},
   "source": [
    "### Saving the Model"
   ]
  },
  {
   "cell_type": "code",
   "execution_count": 35,
   "id": "c93aae34-835f-4dfb-adf3-c0fb2492b7b4",
   "metadata": {},
   "outputs": [],
   "source": [
    "# code to save the model as an h5 file so that it can be used in Flask\n",
    "\n",
    "# commenting out the code so it doesn't run again by accident\n",
    "#model.save('cataracts_image_aug_model.h5')"
   ]
  },
  {
   "cell_type": "markdown",
   "id": "501cd77b-cb33-4491-88c5-87793dc81b46",
   "metadata": {},
   "source": [
    "### Visualizing the accuracy and loss scores for each epoch"
   ]
  },
  {
   "cell_type": "code",
   "execution_count": 26,
   "id": "b2cb73c0-a7f0-4ba2-a129-a20609331cd5",
   "metadata": {},
   "outputs": [
    {
     "data": {
      "image/png": "[encoded data removed]",
      "text/plain": [
       "<Figure size 936x288 with 2 Axes>"
      ]
     },
     "metadata": {
      "needs_background": "light"
     },
     "output_type": "display_data"
    }
   ],
   "source": [
    "fig, axs = plt.subplots(1, 2, figsize=(13,4))\n",
    "\n",
    "fig.suptitle('Detecting Cataracts')\n",
    "\n",
    "# plot training and testing accuracy\n",
    "axs[0].plot(h.history['accuracy'], label='Training Accuracy')\n",
    "axs[0].plot(h.history['val_accuracy'], label='Testing Accuracy')\n",
    "\n",
    "# add titles, labels, and tick formatting \n",
    "axs[0].set_title('Model Accuracy For Successive Epochs')\n",
    "axs[0].set_xlabel('Epoch')\n",
    "axs[0].set_xticks(ticks=range(0,22))\n",
    "axs[0].set_xticklabels(labels=range(1,23))\n",
    "axs[0].set_ylabel('Accuracy')\n",
    "axs[0].set_ylim(.5,1)\n",
    "\n",
    "# add a legend\n",
    "axs[0].legend()\n",
    "\n",
    "# plot training and testing loss\n",
    "axs[1].plot(h.history['loss'], label='Training Loss')\n",
    "axs[1].plot(h.history['val_loss'], label='Testing Loss')\n",
    "\n",
    "# add titles, labels, and tick formatting\n",
    "axs[1].set_title('Model Loss For Successive Epochs')\n",
    "axs[1].set_xlabel('Epoch')\n",
    "axs[1].set_xticks(ticks=range(0,22))\n",
    "axs[1].set_xticklabels(labels=range(1,23))\n",
    "axs[1].set_ylabel('Loss')\n",
    "axs[1].set_ylim(0,1)\n",
    "\n",
    "# add a legend\n",
    "axs[1].legend();\n"
   ]
  },
  {
   "cell_type": "markdown",
   "id": "e7d4329c-cdbf-420f-9b0c-f603c002c24a",
   "metadata": {},
   "source": [
    "These plots mostly have the expected shapes, with the highest accuracy increases and loss decreases during the first 2-3 epochs and then a flattening out of scores, though it is odd that the scores start to move in the wrong direction during the final epoch. The model is not overfit, but does not seem likely to improve beyond the peak scores obtained in the epochs near the end. Training the model on additional images (using new images rather than images generated through image augmentation) might improve the scores."
   ]
  },
  {
   "cell_type": "markdown",
   "id": "fd4386aa-9f0c-4cdf-9480-02fb886ed8b1",
   "metadata": {},
   "source": [
    "### Making a Confusion Matrix"
   ]
  },
  {
   "cell_type": "code",
   "execution_count": 27,
   "id": "a1b15738-5e8b-4b14-bea1-56e3e5d93269",
   "metadata": {},
   "outputs": [],
   "source": [
    "# generate predictions from X_test\n",
    "# in order to generate predictions correctly, the X_test images need to be fed to model.predict through\n",
    "# image_generator_test with shuffle set to False\n",
    "preds = model.predict(image_generator_test.flow(X_test, shuffle=False))"
   ]
  },
  {
   "cell_type": "code",
   "execution_count": 28,
   "id": "781b4a83-42da-4759-8c4c-a7a49d06a9b0",
   "metadata": {
    "tags": []
   },
   "outputs": [],
   "source": [
    "# change predictions from probabilities to 0s and 1s\n",
    "preds = [int(np.round(x)) for x in preds]"
   ]
  },
  {
   "cell_type": "code",
   "execution_count": 29,
   "id": "b1c2603f-b7c1-40ec-8cb8-491602190c46",
   "metadata": {},
   "outputs": [
    {
     "name": "stdout",
     "output_type": "stream",
     "text": [
      "[0, 0, 1, 1, 0, 0, 0, 1, 1, 0, 1, 1, 0, 0, 0, 1, 0, 0, 1, 1, 0, 0, 1, 1, 1, 0, 0, 0, 1, 0, 0, 0, 1, 0, 1, 1, 1, 0, 1, 1, 0, 1, 1, 0, 1, 0, 1, 0, 0, 0, 0, 0, 0, 1, 1, 0, 0, 1, 1, 1, 1, 1, 0, 1, 1, 0, 1, 1, 0, 1, 0, 0, 1, 1, 0, 0, 1, 0, 1, 1, 1, 0, 0, 1, 1, 1, 0, 0, 0, 1, 0, 0, 1, 1, 0, 0, 0, 1, 1, 1, 0, 0, 0, 0, 1, 0, 1, 1, 0, 0, 0, 0, 0, 1, 1, 0, 1, 0, 1, 1, 1, 1, 1, 0, 1, 1, 1, 0]\n"
     ]
    }
   ],
   "source": [
    "print(preds)"
   ]
  },
  {
   "cell_type": "code",
   "execution_count": 30,
   "id": "1e727512-107d-4d8c-8100-f02e6deae495",
   "metadata": {},
   "outputs": [
    {
     "data": {
      "text/plain": [
       "array([0, 0, 1, 1, 0, 0, 0, 1, 1, 1, 1, 1, 0, 0, 1, 1, 0, 1, 1, 1, 0, 0,\n",
       "       1, 1, 1, 0, 0, 0, 1, 0, 0, 0, 1, 0, 1, 1, 1, 0, 1, 1, 0, 1, 1, 0,\n",
       "       1, 1, 1, 0, 1, 1, 0, 1, 1, 1, 1, 1, 0, 1, 1, 1, 1, 1, 0, 1, 1, 0,\n",
       "       1, 1, 0, 1, 1, 1, 1, 1, 0, 0, 1, 0, 1, 1, 1, 0, 0, 1, 1, 1, 0, 0,\n",
       "       0, 1, 0, 0, 1, 1, 0, 0, 1, 1, 1, 1, 0, 0, 0, 0, 1, 0, 1, 1, 0, 0,\n",
       "       0, 0, 1, 1, 1, 0, 1, 0, 1, 1, 1, 1, 1, 1, 1, 1, 1, 0])"
      ]
     },
     "execution_count": 30,
     "metadata": {},
     "output_type": "execute_result"
    }
   ],
   "source": [
    "y_test"
   ]
  },
  {
   "cell_type": "code",
   "execution_count": 31,
   "id": "6b2d22eb-944e-4b02-83d0-4af555ad53f1",
   "metadata": {},
   "outputs": [
    {
     "data": {
      "text/plain": [
       "78"
      ]
     },
     "execution_count": 31,
     "metadata": {},
     "output_type": "execute_result"
    }
   ],
   "source": [
    "y_test.sum()"
   ]
  },
  {
   "cell_type": "code",
   "execution_count": 32,
   "id": "18c2addf-7e56-4cb4-8c9d-811cf997d3e0",
   "metadata": {},
   "outputs": [
    {
     "data": {
      "image/png": "[encoded data removed]",
      "text/plain": [
       "<Figure size 432x288 with 2 Axes>"
      ]
     },
     "metadata": {
      "needs_background": "light"
     },
     "output_type": "display_data"
    }
   ],
   "source": [
    "# make and display a confusion matrix\n",
    "conf_matrix = confusion_matrix(y_test, preds)\n",
    "ConfusionMatrixDisplay(confusion_matrix=conf_matrix, display_labels=['Normal', 'Cataracts']).plot();"
   ]
  },
  {
   "cell_type": "code",
   "execution_count": 34,
   "id": "2efd9ce5-4f06-4a1a-bf41-94852308c24a",
   "metadata": {},
   "outputs": [
    {
     "name": "stdout",
     "output_type": "stream",
     "text": [
      "              precision    recall  f1-score   support\n",
      "\n",
      "           0       0.78      1.00      0.88        50\n",
      "           1       1.00      0.82      0.90        78\n",
      "\n",
      "    accuracy                           0.89       128\n",
      "   macro avg       0.89      0.91      0.89       128\n",
      "weighted avg       0.91      0.89      0.89       128\n",
      "\n"
     ]
    }
   ],
   "source": [
    "# display the classification report\n",
    "print(classification_report(y_test, preds))"
   ]
  },
  {
   "cell_type": "markdown",
   "id": "a11b8223-03c9-478c-a267-af0d5209ace8",
   "metadata": {},
   "source": [
    "This model achieved a testing accuracy of 89.1%. However, it only achieved an 82.1% sensitivity rate while attaining a 100% specificity rate. The 82.1% sensitivity rate is undesirable for a model designed to diagnose medical conditions because it means a number of the cataracts went undetected. The model is not yet suitable for deployment as a diagnostic tool."
   ]
  },
  {
   "cell_type": "markdown",
   "id": "463ea776-ae9b-4d56-9bc4-4bbba05c3ee9",
   "metadata": {},
   "source": [
    "### Conclusions"
   ]
  },
  {
   "cell_type": "markdown",
   "id": "41359444-2778-46d7-83a7-1ab83fde3d33",
   "metadata": {},
   "source": [
    "This model achieved adequate results, having the second-highest overall testing accuracy across all the models. However, the model does not have a high enough sensitivity rate and overall accuracy to be used in a diagnostic setting. The model was trained on very few images, and additional training data could bring the model's performance up to a level that would make it deployable."
   ]
  },
  {
   "cell_type": "code",
   "execution_count": null,
   "id": "89f8ca8b-cf92-44e2-9137-26392f78e4f2",
   "metadata": {},
   "outputs": [],
   "source": []
  }
 ],
 "metadata": {
  "kernelspec": {
   "display_name": "Python 3",
   "language": "python",
   "name": "python3"
  },
  "language_info": {
   "codemirror_mode": {
    "name": "ipython",
    "version": 3
   },
   "file_extension": ".py",
   "mimetype": "text/x-python",
   "name": "python",
   "nbconvert_exporter": "python",
   "pygments_lexer": "ipython3",
   "version": "3.8.8"
  }
 },
 "nbformat": 4,
 "nbformat_minor": 5
}
