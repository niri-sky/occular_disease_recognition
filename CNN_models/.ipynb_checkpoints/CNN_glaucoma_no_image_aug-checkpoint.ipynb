{
 "cells": [
  {
   "cell_type": "markdown",
   "id": "38f54474-6355-42b1-8c8d-a531822c58b1",
   "metadata": {},
   "source": [
    "## CNN Model: Detecting Glaucoma (No Image Augmentation)\n",
    "This model uses the *same dataset and model architecture as the CNN Glaucoma model that uses image augmentation, but does not include image augmentation. This model is intended as a comparison to a model with image augmentation to see how this affects model performance, especially on a very small dataset of images.\n",
    "\n",
    "*The dataset is the same, except the Image Augmentation model uses only 404 of the 414 available images of eyes with glaucoma. This is due to the ImageDataGenerator requiring the number of images to be divisible by the batch size during modeling."
   ]
  },
  {
   "cell_type": "markdown",
   "id": "8746ce63-2a24-4ab9-af10-d5699cd6c006",
   "metadata": {},
   "source": [
    "### Imports "
   ]
  },
  {
   "cell_type": "code",
   "execution_count": 29,
   "id": "e0953519-4400-4eb6-8063-e37a3922e47b",
   "metadata": {},
   "outputs": [],
   "source": [
    "# imports\n",
    "import matplotlib.pyplot as plt\n",
    "import numpy as np\n",
    "import os\n",
    "import pandas as pd\n",
    "\n",
    "from tensorflow.keras.layers import Dense, Dropout, Flatten, Conv2D, MaxPooling2D\n",
    "from tensorflow.keras.models import Sequential\n",
    "from tensorflow.keras.preprocessing.image import img_to_array, load_img\n",
    "from tensorflow.keras.utils import to_categorical\n",
    "from tensorflow.keras.callbacks import EarlyStopping\n",
    "\n",
    "from sklearn.model_selection import train_test_split\n",
    "\n",
    "from sklearn.metrics import confusion_matrix, ConfusionMatrixDisplay, classification_report\n",
    "\n",
    "from tensorflow.keras.models import Model"
   ]
  },
  {
   "cell_type": "code",
   "execution_count": 2,
   "id": "c2c89846-21e1-4313-9517-e6ee4f354058",
   "metadata": {},
   "outputs": [],
   "source": [
    "# Setting a random seed for reproducibility\n",
    "np.random.seed(42)"
   ]
  },
  {
   "cell_type": "markdown",
   "id": "663277fd-f709-4b4f-942f-ccd6373ac0b4",
   "metadata": {},
   "source": [
    "### Reading in image data as X and y"
   ]
  },
  {
   "cell_type": "code",
   "execution_count": 3,
   "id": "0b4c9d01-320a-4a00-8bbc-f7901c07c9a5",
   "metadata": {
    "tags": []
   },
   "outputs": [],
   "source": [
    "# specify the path with the subfolders of cleaned eye images (each subfolder is an eye condition)\n",
    "clean_path = './cleaned_eye_images/'\n",
    "\n",
    "# the target y is the eye condition \n",
    "# make a dictionary of eye conditions and integers because y needs to be a number, not a string\n",
    "condition_dict = {'normal':0, 'glaucoma': 1}\n",
    "\n",
    "# make empty lists for X and y\n",
    "X=[]\n",
    "y=[]\n",
    "\n",
    "# iterate through each subfolder (= condition)\n",
    "for condition in os.listdir(clean_path):\n",
    "    \n",
    "    # make sure the subfolder is actually the name of a condition (e.g., not 'DS_Store')\n",
    "    if condition in condition_dict.keys():\n",
    "        \n",
    "        # iterate through each image file in the subfolder\n",
    "        for file in os.listdir(clean_path+condition):\n",
    "            \n",
    "            # added a try/except so that DS_Store files don't trip an error\n",
    "            try:\n",
    "                # load the image file\n",
    "                image = load_img(clean_path+condition+'/'+file)\n",
    "                \n",
    "                # convert the image to an array and normalize it by dividing by 255\n",
    "                image_arr = img_to_array(image) / 255\n",
    "                \n",
    "                # add the image array to X\n",
    "                X.append(image_arr)\n",
    "                \n",
    "                # use the condition_dict to add the right number to y that corresponds to the eye condition\n",
    "                y.append(condition_dict[condition])\n",
    "                \n",
    "            except:\n",
    "                continue\n",
    "                \n",
    "# change X and y into numpy arrays\n",
    "X = np.array(X)\n",
    "y = np.array(y)"
   ]
  },
  {
   "cell_type": "code",
   "execution_count": 4,
   "id": "8f987109-7dd2-43a3-9b5e-13f886ddc3fc",
   "metadata": {},
   "outputs": [
    {
     "data": {
      "text/plain": [
       "(714, 512, 512, 3)"
      ]
     },
     "execution_count": 4,
     "metadata": {},
     "output_type": "execute_result"
    }
   ],
   "source": [
    "# checking the shape of X\n",
    "# there are 1692 512x512 images with 3 channels (RGB)\n",
    "X.shape"
   ]
  },
  {
   "cell_type": "code",
   "execution_count": 5,
   "id": "733962dd-2e80-4dd8-a8b8-77bfc3d8806e",
   "metadata": {},
   "outputs": [
    {
     "data": {
      "text/plain": [
       "(714,)"
      ]
     },
     "execution_count": 5,
     "metadata": {},
     "output_type": "execute_result"
    }
   ],
   "source": [
    "# y matches the number of images in X\n",
    "y.shape"
   ]
  },
  {
   "cell_type": "markdown",
   "id": "a5e0d825-ad15-4cfa-8f01-8f75d44c012b",
   "metadata": {},
   "source": [
    "### Baseline Model\n",
    "Our dataset is slightly unevenly distributed between normal eyes and eyes with glaucoma, and the model needs to make correct predictions more than 58% of the time to beat the baseline accuracy."
   ]
  },
  {
   "cell_type": "code",
   "execution_count": 6,
   "id": "934c0fb8-ceb4-4701-9ef4-fa1340291719",
   "metadata": {},
   "outputs": [
    {
     "name": "stdout",
     "output_type": "stream",
     "text": [
      "There are 300 non-diseased eye images and 414 images of eyes with glaucoma in the dataset.\n",
      "This gives a baseline accuracy of 0.58\n"
     ]
    }
   ],
   "source": [
    "print(f'There are {len(y)-y.sum()} non-diseased eye images and {y.sum()} images of eyes with glaucoma in the dataset.')\n",
    "\n",
    "# Since y is binary with values of 0 and 1, the baseline accuracy can be found by summing y and dividing by the length of y\n",
    "# The baseline accuracy is the higher of this value and 1 - this value\n",
    "# rounding the numbers to 3 places to make the formatting nicer\n",
    "print(f'This gives a baseline accuracy of {round(np.array([(y.sum() / len(y)),(1-(y.sum()/len(y)))]).max(), 3)}')"
   ]
  },
  {
   "cell_type": "markdown",
   "id": "164e147d-db8f-41b7-b481-2bae672c7c55",
   "metadata": {},
   "source": [
    "### Train-Test Split"
   ]
  },
  {
   "cell_type": "code",
   "execution_count": 7,
   "id": "943563d9-49f4-4888-8331-27f9407112a4",
   "metadata": {},
   "outputs": [],
   "source": [
    "# regular train-test-split \n",
    "# no need for StandardScaler because the images have already been normalized\n",
    "X_train, X_test, y_train, y_test = train_test_split(X, y, random_state=42, stratify=y)"
   ]
  },
  {
   "cell_type": "markdown",
   "id": "776dd38a-1bde-4403-9502-33d18d2c2dc1",
   "metadata": {},
   "source": [
    "### Building the CNN Model"
   ]
  },
  {
   "cell_type": "code",
   "execution_count": 8,
   "id": "6baaeb65-65c3-417c-b882-56e3bc73d13d",
   "metadata": {},
   "outputs": [],
   "source": [
    "# Instantiate a Sequential model \n",
    "model = Sequential()"
   ]
  },
  {
   "cell_type": "code",
   "execution_count": 9,
   "id": "207bcbf3-ec8f-4d3c-a8a8-2f9abc454857",
   "metadata": {},
   "outputs": [],
   "source": [
    "# add a Convolutional 2D layer that will create 16 3x3 filters to detect image features\n",
    "\n",
    "model.add(Conv2D(16, (3,3), activation='relu', input_shape=(512,512,3)))"
   ]
  },
  {
   "cell_type": "code",
   "execution_count": 10,
   "id": "2267b39c-9f9a-4740-b6dd-faccf985ed14",
   "metadata": {},
   "outputs": [],
   "source": [
    "# add a MaxPooling 2D layer that will take the maximum value in every 2x2 grid (with a stride defaulting to the pool_size)\n",
    "\n",
    "model.add(MaxPooling2D(pool_size=(2,2)))"
   ]
  },
  {
   "cell_type": "code",
   "execution_count": 11,
   "id": "476205ad-de18-4027-b8c5-0f180d94c004",
   "metadata": {},
   "outputs": [],
   "source": [
    "# add more convolutional layers (with max pooling between each one) \n",
    "\n",
    "# increasing filters to 32\n",
    "# input shape is only needed for the first layer above\n",
    "model.add(Conv2D(32, (3,3), activation='relu'))\n",
    "model.add(MaxPooling2D((2,2)))\n",
    "\n",
    "model.add(Conv2D(32, (3,3), activation='relu'))\n",
    "model.add(MaxPooling2D((2,2)))\n",
    "\n",
    "# adding a 64-filter layer, with corresponding MaxPooling layer\n",
    "model.add(Conv2D(64, (3,3), activation='relu'))\n",
    "model.add(MaxPooling2D((2,2)))"
   ]
  },
  {
   "cell_type": "code",
   "execution_count": 12,
   "id": "7a2dea11-4860-481f-8355-c9044640a48c",
   "metadata": {},
   "outputs": [],
   "source": [
    "# add a flatten layer to bridge between the convolutional layers and the dense layers\n",
    "model.add(Flatten())"
   ]
  },
  {
   "cell_type": "code",
   "execution_count": 13,
   "id": "6dbb87d6-f17c-4068-9020-45982992a2dd",
   "metadata": {},
   "outputs": [],
   "source": [
    "# the dense layers analyze the features that were identified in the convolutional layers \n",
    "model.add(Dense(256, activation='relu'))\n",
    "model.add(Dense(256, activation='relu'))"
   ]
  },
  {
   "cell_type": "code",
   "execution_count": 14,
   "id": "987b4e18-8c1b-4966-8901-0fe58b61f989",
   "metadata": {},
   "outputs": [],
   "source": [
    "# add the output layer with sigmoid activation because it's a binary classification problem\n",
    "model.add(Dense(1, activation='sigmoid'))"
   ]
  },
  {
   "cell_type": "code",
   "execution_count": 15,
   "id": "f22ff4cb-96d0-49c3-b77b-a77f79804193",
   "metadata": {},
   "outputs": [],
   "source": [
    "# compile the model with binary_crossentropy loss, accuracy metrics, and adam optimizer\n",
    "model.compile(loss='binary_crossentropy', metrics=['accuracy'], optimizer='adam')"
   ]
  },
  {
   "cell_type": "markdown",
   "id": "560a3217-f61f-47ba-8696-543c6acf28ba",
   "metadata": {},
   "source": [
    "### Fitting the Model"
   ]
  },
  {
   "cell_type": "code",
   "execution_count": 18,
   "id": "a135f2bd-f6ba-45fe-b51f-57f1059a9494",
   "metadata": {},
   "outputs": [],
   "source": [
    "# adding early stopping\n",
    "early_stop = EarlyStopping(monitor='val_loss', min_delta=.01, patience=5, verbose=1, mode='auto')"
   ]
  },
  {
   "cell_type": "code",
   "execution_count": 19,
   "id": "61749c92-481b-44c0-b03c-1d799c0038fd",
   "metadata": {},
   "outputs": [
    {
     "name": "stdout",
     "output_type": "stream",
     "text": [
      "Epoch 1/30\n",
      "9/9 [==============================] - 97s 10s/step - loss: 1.0620 - accuracy: 0.4374 - val_loss: 0.6664 - val_accuracy: 0.5810\n",
      "Epoch 2/30\n",
      "9/9 [==============================] - 84s 9s/step - loss: 0.6267 - accuracy: 0.6093 - val_loss: 0.5734 - val_accuracy: 0.8436\n",
      "Epoch 3/30\n",
      "9/9 [==============================] - 93s 11s/step - loss: 0.4577 - accuracy: 0.7850 - val_loss: 0.3930 - val_accuracy: 0.8268\n",
      "Epoch 4/30\n",
      "9/9 [==============================] - 78s 9s/step - loss: 0.4506 - accuracy: 0.8000 - val_loss: 0.4107 - val_accuracy: 0.7709\n",
      "Epoch 5/30\n",
      "9/9 [==============================] - 82s 9s/step - loss: 0.3731 - accuracy: 0.8262 - val_loss: 0.3577 - val_accuracy: 0.8492\n",
      "Epoch 6/30\n",
      "9/9 [==============================] - 77s 9s/step - loss: 0.3439 - accuracy: 0.8467 - val_loss: 0.3326 - val_accuracy: 0.8492\n",
      "Epoch 7/30\n",
      "9/9 [==============================] - 89s 10s/step - loss: 0.3211 - accuracy: 0.8617 - val_loss: 0.4737 - val_accuracy: 0.7989\n",
      "Epoch 8/30\n",
      "9/9 [==============================] - 80s 9s/step - loss: 0.3147 - accuracy: 0.8542 - val_loss: 0.3397 - val_accuracy: 0.8492\n",
      "Epoch 9/30\n",
      "9/9 [==============================] - 78s 9s/step - loss: 0.3241 - accuracy: 0.8561 - val_loss: 0.3309 - val_accuracy: 0.8492\n",
      "Epoch 10/30\n",
      "9/9 [==============================] - 80s 9s/step - loss: 0.3292 - accuracy: 0.8486 - val_loss: 0.3224 - val_accuracy: 0.8492\n",
      "Epoch 11/30\n",
      "9/9 [==============================] - 82s 9s/step - loss: 0.3122 - accuracy: 0.8561 - val_loss: 0.3213 - val_accuracy: 0.8436\n",
      "Epoch 12/30\n",
      "9/9 [==============================] - 79s 9s/step - loss: 0.2981 - accuracy: 0.8579 - val_loss: 0.3495 - val_accuracy: 0.8547\n",
      "Epoch 13/30\n",
      "9/9 [==============================] - 76s 8s/step - loss: 0.3101 - accuracy: 0.8654 - val_loss: 0.3322 - val_accuracy: 0.8268\n",
      "Epoch 14/30\n",
      "9/9 [==============================] - 90s 10s/step - loss: 0.3226 - accuracy: 0.8523 - val_loss: 0.3222 - val_accuracy: 0.8547\n",
      "Epoch 15/30\n",
      "9/9 [==============================] - 96s 11s/step - loss: 0.2992 - accuracy: 0.8542 - val_loss: 0.2990 - val_accuracy: 0.8715\n",
      "Epoch 16/30\n",
      "9/9 [==============================] - 80s 9s/step - loss: 0.2842 - accuracy: 0.8710 - val_loss: 0.3160 - val_accuracy: 0.8715\n",
      "Epoch 17/30\n",
      "9/9 [==============================] - 83s 9s/step - loss: 0.2868 - accuracy: 0.8673 - val_loss: 0.3132 - val_accuracy: 0.8603\n",
      "Epoch 18/30\n",
      "9/9 [==============================] - 87s 10s/step - loss: 0.2841 - accuracy: 0.8822 - val_loss: 0.3259 - val_accuracy: 0.8603\n",
      "Epoch 19/30\n",
      "9/9 [==============================] - 92s 10s/step - loss: 0.2762 - accuracy: 0.8729 - val_loss: 0.3048 - val_accuracy: 0.8883\n",
      "Epoch 20/30\n",
      "9/9 [==============================] - 92s 10s/step - loss: 0.2593 - accuracy: 0.8953 - val_loss: 0.3032 - val_accuracy: 0.8603\n",
      "Epoch 00020: early stopping\n"
     ]
    }
   ],
   "source": [
    "# fit the model and save it as h so the accuracy and loss scores for each epoch can be visualized\n",
    "h = model.fit(X_train, y_train, validation_data=(X_test,y_test), batch_size=64, epochs=30, callbacks=[early_stop])"
   ]
  },
  {
   "cell_type": "markdown",
   "id": "1ae000bc-fd50-46c0-88fc-9cf9d39e1466",
   "metadata": {},
   "source": [
    "The model reaches 89.5% training accuracy and 86.0% testing accuracy before early stopping ends training at epoch 20. These results are very similar to the results of the glaucoma model using image augmentation, though the training accuracy does not diverge as much from the testing accuracy in that model (which achieved 85.6% training accuracy and 86.7% testing accuracy). This reflects the regularizing effect of using image augmentation -- the model does not start to overfit on the training data, and in fact ends up with higher testing accuracy than training accuracy. Image augmentation clearly has an effect, but the parameters for it require more research and fine-tuning to make it effective at boosting model performance in this instance."
   ]
  },
  {
   "cell_type": "markdown",
   "id": "f4038efa-c62e-4a36-b044-652eccb55eb4",
   "metadata": {},
   "source": [
    "### Saving the Model"
   ]
  },
  {
   "cell_type": "code",
   "execution_count": 17,
   "id": "c93aae34-835f-4dfb-adf3-c0fb2492b7b4",
   "metadata": {},
   "outputs": [],
   "source": [
    "# save the model as an h5 file so that it can be used in Flask\n",
    "\n",
    "# commenting out the code so this doesn't run \n",
    "#model.save('no_image_aug_glaucoma_cnn.h5')"
   ]
  },
  {
   "cell_type": "markdown",
   "id": "501cd77b-cb33-4491-88c5-87793dc81b46",
   "metadata": {},
   "source": [
    "### Visualizing the accuracy and loss scores for each epoch"
   ]
  },
  {
   "cell_type": "code",
   "execution_count": 36,
   "id": "80329747-decc-431f-8919-c076fec1ab65",
   "metadata": {},
   "outputs": [
    {
     "data": {
      "image/png": "[encoded data removed]",
      "text/plain": [
       "<Figure size 936x288 with 2 Axes>"
      ]
     },
     "metadata": {
      "needs_background": "light"
     },
     "output_type": "display_data"
    }
   ],
   "source": [
    "fig, axs = plt.subplots(1, 2, figsize=(13,4))\n",
    "\n",
    "fig.suptitle('Detecting Glaucoma: No Image Augmentation')\n",
    "\n",
    "# plot training and testing accuracy\n",
    "axs[0].plot(h.history['accuracy'], label='Training Accuracy')\n",
    "axs[0].plot(h.history['val_accuracy'], label='Testing Accuracy')\n",
    "\n",
    "# add titles, labels, and tick formatting \n",
    "axs[0].set_title('Model Accuracy For Successive Epochs')\n",
    "axs[0].set_xlabel('Epoch')\n",
    "axs[0].set_xticks(ticks=range(0,21))\n",
    "axs[0].set_xticklabels(labels=range(1,22))\n",
    "axs[0].set_ylabel('Accuracy')\n",
    "axs[0].set_ylim(.5,1)\n",
    "\n",
    "# add a legend\n",
    "axs[0].legend()\n",
    "\n",
    "# plot training and testing loss\n",
    "axs[1].plot(h.history['loss'], label='Training Loss')\n",
    "axs[1].plot(h.history['val_loss'], label='Testing Loss')\n",
    "\n",
    "# add titles, labels, and tick formatting\n",
    "axs[1].set_title('Model Loss For Successive Epochs')\n",
    "axs[1].set_xlabel('Epoch')\n",
    "axs[1].set_xticks(ticks=range(0,21))\n",
    "axs[1].set_xticklabels(labels=range(1,22))\n",
    "axs[1].set_ylabel('Loss')\n",
    "axs[1].set_ylim(0,1.2)\n",
    "\n",
    "# add a legend\n",
    "axs[1].legend();\n"
   ]
  },
  {
   "cell_type": "markdown",
   "id": "e7d4329c-cdbf-420f-9b0c-f603c002c24a",
   "metadata": {},
   "source": [
    "These plots show the expected dramatic changes in model accuracy and loss in the first few epochs followed by a leveling off as the epochs progress. Training accuracy and loss do not fluctuate as much as testing accuracy and loss, perhaps reflecting the small size of the testing set. Early stopping ended training after 20 epochs, and it does look like training and testing scores have started to diverge by this point in the training. "
   ]
  },
  {
   "cell_type": "markdown",
   "id": "fd4386aa-9f0c-4cdf-9480-02fb886ed8b1",
   "metadata": {},
   "source": [
    "### Generating Predictions"
   ]
  },
  {
   "cell_type": "code",
   "execution_count": 22,
   "id": "781b4a83-42da-4759-8c4c-a7a49d06a9b0",
   "metadata": {},
   "outputs": [],
   "source": [
    "# generate predictions from X_test\n",
    "preds = model.predict(X_test)"
   ]
  },
  {
   "cell_type": "code",
   "execution_count": 23,
   "id": "640c6840-fc3d-4401-96b7-0847c78e161b",
   "metadata": {},
   "outputs": [
    {
     "name": "stdout",
     "output_type": "stream",
     "text": [
      "[[0.2996438 ]\n",
      " [0.21469712]\n",
      " [0.7140184 ]\n",
      " [0.11486295]\n",
      " [0.12987608]]\n"
     ]
    }
   ],
   "source": [
    "# the predictions are probabilities of whether to class the image as 0 (normal) or 1 (diseased)\n",
    "print(preds[0:5])"
   ]
  },
  {
   "cell_type": "code",
   "execution_count": 24,
   "id": "77e406b1-4e15-4c0a-82f3-946b24c4ffdf",
   "metadata": {},
   "outputs": [],
   "source": [
    "# since the predictions come back as probabilities,\n",
    "# using round and int to change them to 0s and 1s for use with confusionmatrix\n",
    "preds = [int(np.round(x)) for x in preds]"
   ]
  },
  {
   "cell_type": "code",
   "execution_count": 25,
   "id": "267ef8a7-5ba7-40b0-9ddd-ccadcf23f605",
   "metadata": {},
   "outputs": [
    {
     "name": "stdout",
     "output_type": "stream",
     "text": [
      "[0, 0, 1, 0, 0, 0, 1, 1, 1, 1, 1, 0, 1, 1, 1, 1, 0, 0, 0, 0, 0, 0, 0, 1, 1, 1, 1, 1, 1, 1, 1, 0, 1, 1, 0, 1, 1, 1, 0, 1, 1, 0, 1, 0, 1, 0, 1, 1, 0, 0, 0, 1, 1, 1, 1, 1, 1, 1, 1, 0, 1, 0, 1, 1, 0, 0, 1, 1, 1, 1, 1, 1, 1, 0, 0, 1, 1, 1, 0, 0, 1, 0, 0, 0, 1, 0, 0, 0, 0, 0, 0, 1, 1, 1, 1, 1, 1, 0, 0, 1, 0, 1, 0, 1, 0, 0, 1, 1, 1, 1, 1, 1, 0, 0, 0, 1, 0, 1, 0, 0, 0, 1, 1, 0, 0, 0, 0, 1, 1, 1, 1, 0, 1, 1, 0, 1, 0, 1, 0, 1, 0, 0, 1, 1, 1, 1, 0, 0, 0, 1, 0, 1, 0, 0, 1, 1, 1, 1, 1, 1, 1, 0, 0, 0, 1, 1, 0, 0, 1, 0, 1, 1, 1, 0, 1, 1, 1, 1, 0]\n"
     ]
    }
   ],
   "source": [
    "# checking that preds is now a list of 0s and 1s\n",
    "print(preds)"
   ]
  },
  {
   "cell_type": "code",
   "execution_count": 26,
   "id": "922692be-cd28-4cda-b248-e5acf630fd40",
   "metadata": {},
   "outputs": [
    {
     "data": {
      "text/plain": [
       "array([0, 0, 1, 0, 0, 0, 0, 1, 1, 0, 1, 0, 1, 1, 1, 1, 0, 1, 0, 0, 0, 0,\n",
       "       0, 1, 1, 1, 1, 1, 1, 1, 0, 1, 1, 1, 0, 0, 1, 1, 1, 1, 1, 0, 1, 0,\n",
       "       1, 0, 1, 1, 0, 0, 1, 1, 1, 1, 1, 1, 1, 1, 1, 0, 1, 0, 1, 1, 0, 1,\n",
       "       1, 0, 1, 1, 1, 1, 1, 0, 0, 1, 0, 1, 0, 1, 1, 0, 0, 0, 1, 0, 1, 0,\n",
       "       0, 0, 0, 1, 1, 1, 1, 1, 1, 0, 0, 0, 0, 1, 0, 1, 0, 0, 0, 1, 1, 1,\n",
       "       1, 1, 0, 0, 0, 1, 1, 0, 1, 0, 1, 0, 1, 0, 0, 0, 0, 1, 1, 1, 1, 0,\n",
       "       1, 1, 0, 1, 1, 1, 0, 1, 0, 0, 0, 1, 1, 1, 0, 1, 0, 1, 0, 1, 0, 0,\n",
       "       1, 1, 1, 1, 1, 1, 1, 0, 0, 0, 1, 1, 1, 0, 1, 0, 1, 1, 1, 0, 1, 0,\n",
       "       1, 1, 0])"
      ]
     },
     "execution_count": 26,
     "metadata": {},
     "output_type": "execute_result"
    }
   ],
   "source": [
    "y_test"
   ]
  },
  {
   "cell_type": "code",
   "execution_count": 27,
   "id": "18c2addf-7e56-4cb4-8c9d-811cf997d3e0",
   "metadata": {},
   "outputs": [
    {
     "data": {
      "image/png": "[encoded data removed]",
      "text/plain": [
       "<Figure size 432x288 with 2 Axes>"
      ]
     },
     "metadata": {
      "needs_background": "light"
     },
     "output_type": "display_data"
    }
   ],
   "source": [
    "# make and display a confusion matrix\n",
    "conf_matrix = confusion_matrix(y_test, preds)\n",
    "ConfusionMatrixDisplay(confusion_matrix=conf_matrix, display_labels=(['Normal','Glaucoma'])).plot();"
   ]
  },
  {
   "cell_type": "code",
   "execution_count": 30,
   "id": "0b2fa982-c43e-4da7-a1b2-1475bd4d8719",
   "metadata": {},
   "outputs": [
    {
     "name": "stdout",
     "output_type": "stream",
     "text": [
      "              precision    recall  f1-score   support\n",
      "\n",
      "           0       0.83      0.84      0.83        75\n",
      "           1       0.88      0.88      0.88       104\n",
      "\n",
      "    accuracy                           0.86       179\n",
      "   macro avg       0.86      0.86      0.86       179\n",
      "weighted avg       0.86      0.86      0.86       179\n",
      "\n"
     ]
    }
   ],
   "source": [
    "# also generate the classification report\n",
    "print(classification_report(y_test, preds))"
   ]
  },
  {
   "cell_type": "markdown",
   "id": "a11b8223-03c9-478c-a267-af0d5209ace8",
   "metadata": {},
   "source": [
    "The model achieves 87.5% sensitivity and 84% specificity, which is not sufficient for use in medical diagnostics. However, the model was trained on very few images and did not use image augmentation. Adding more training images and implementing effective image augmentation would likely increase the performance of this model, and it "
   ]
  },
  {
   "cell_type": "code",
   "execution_count": null,
   "id": "c27e441c-d08e-4029-a1ea-38713f228cb4",
   "metadata": {},
   "outputs": [],
   "source": []
  }
 ],
 "metadata": {
  "kernelspec": {
   "display_name": "Python 3",
   "language": "python",
   "name": "python3"
  },
  "language_info": {
   "codemirror_mode": {
    "name": "ipython",
    "version": 3
   },
   "file_extension": ".py",
   "mimetype": "text/x-python",
   "name": "python",
   "nbconvert_exporter": "python",
   "pygments_lexer": "ipython3",
   "version": "3.8.8"
  }
 },
 "nbformat": 4,
 "nbformat_minor": 5
}
