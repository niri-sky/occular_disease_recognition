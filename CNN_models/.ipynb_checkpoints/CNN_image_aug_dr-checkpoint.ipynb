{
 "cells": [
  {
   "cell_type": "markdown",
   "id": "38f54474-6355-42b1-8c8d-a531822c58b1",
   "metadata": {},
   "source": [
    "## CNN Model with Image Augmentation: Detecting Diabetic Retinopathy\n",
    "This is the same as the Image Augmentation CNN model used on eyes with Glaucoma, applied to eyes with Diabetic Retinopathy.\n",
    "\n",
    "This notebook includes some code comments and markdown explanations, but the notebook for the Glaucoma model has more robust commenting that is not repeated here if it would be the same."
   ]
  },
  {
   "cell_type": "markdown",
   "id": "8746ce63-2a24-4ab9-af10-d5699cd6c006",
   "metadata": {},
   "source": [
    "### Imports "
   ]
  },
  {
   "cell_type": "code",
   "execution_count": 3,
   "id": "e0953519-4400-4eb6-8063-e37a3922e47b",
   "metadata": {},
   "outputs": [],
   "source": [
    "import matplotlib.pyplot as plt\n",
    "import numpy as np\n",
    "import os\n",
    "import pandas as pd\n",
    "\n",
    "from tensorflow.keras.layers import Dense, Dropout, Flatten, Conv2D, MaxPooling2D\n",
    "from tensorflow.keras.models import Sequential, Model\n",
    "from tensorflow.keras.preprocessing.image import img_to_array, load_img, ImageDataGenerator\n",
    "from tensorflow.keras.callbacks import EarlyStopping\n",
    "\n",
    "from sklearn.model_selection import train_test_split\n",
    "from sklearn.metrics import confusion_matrix, ConfusionMatrixDisplay, classification_report"
   ]
  },
  {
   "cell_type": "code",
   "execution_count": 2,
   "id": "c2c89846-21e1-4313-9517-e6ee4f354058",
   "metadata": {},
   "outputs": [],
   "source": [
    "# setting a random seed for reproducibility\n",
    "np.random.seed(42)"
   ]
  },
  {
   "cell_type": "markdown",
   "id": "663277fd-f709-4b4f-942f-ccd6373ac0b4",
   "metadata": {},
   "source": [
    "### Reading in image data as X and y"
   ]
  },
  {
   "cell_type": "code",
   "execution_count": 3,
   "id": "0b4c9d01-320a-4a00-8bbc-f7901c07c9a5",
   "metadata": {
    "tags": []
   },
   "outputs": [],
   "source": [
    "# specify the path with the subfolders of cleaned eye images \n",
    "clean_path = './cleaned_eye_images/'\n",
    "\n",
    "# make a dictionary of eye conditions and integers because the target y needs to be a number, not a string\n",
    "# setting the condition to be 1 so that 'positive' results mean the eye has the condition\n",
    "condition_dict = {'retinopathy':1, 'normal': 0}\n",
    "\n",
    "# make empty lists for X and y\n",
    "X=[]\n",
    "y=[]\n",
    "\n",
    "# iterate through each subfolder (= condition)\n",
    "for condition in os.listdir(clean_path):\n",
    "    \n",
    "    # make sure the subfolder is actually the name of a condition (e.g., not 'DS_Store')\n",
    "    if condition in condition_dict.keys():\n",
    "        \n",
    "        # allows you to specify how many images to collect from each folder\n",
    "        # this allows the final number to be divisible by the desired batch size\n",
    "        number=0\n",
    "        total_num = 468\n",
    "        \n",
    "        # iterate through each image file in the subfolder\n",
    "        for file in os.listdir(clean_path+condition):\n",
    "            \n",
    "            if number < total_num:\n",
    "            \n",
    "            # added a try/except so that DS_Store files don't trip an error\n",
    "                try:\n",
    "                    # load the image file\n",
    "                    image = load_img(clean_path+condition+'/'+file)\n",
    "                    \n",
    "                    # turn the image into an array\n",
    "                    image_arr = img_to_array(image)\n",
    "                \n",
    "                    # add the image array to X\n",
    "                    X.append(image_arr)\n",
    "                \n",
    "                    # use the condition_dict to add the right number to y that corresponds to the eye condition\n",
    "                    y.append(condition_dict[condition])\n",
    "                    \n",
    "                    number+=1\n",
    "                \n",
    "                except:\n",
    "                    continue"
   ]
  },
  {
   "cell_type": "code",
   "execution_count": 4,
   "id": "88b02733-4474-462d-b925-33ae0685ad00",
   "metadata": {},
   "outputs": [],
   "source": [
    "# change X and y into numpy arrays\n",
    "X = np.array(X)\n",
    "y = np.array(y)"
   ]
  },
  {
   "cell_type": "code",
   "execution_count": 5,
   "id": "8f987109-7dd2-43a3-9b5e-13f886ddc3fc",
   "metadata": {},
   "outputs": [
    {
     "data": {
      "text/plain": [
       "(768, 512, 512, 3)"
      ]
     },
     "execution_count": 5,
     "metadata": {},
     "output_type": "execute_result"
    }
   ],
   "source": [
    "# checking the shape of X\n",
    "# there are 768 512x512 images with 3 channels (RGB)\n",
    "X.shape"
   ]
  },
  {
   "cell_type": "code",
   "execution_count": 6,
   "id": "733962dd-2e80-4dd8-a8b8-77bfc3d8806e",
   "metadata": {},
   "outputs": [
    {
     "data": {
      "text/plain": [
       "(768,)"
      ]
     },
     "execution_count": 6,
     "metadata": {},
     "output_type": "execute_result"
    }
   ],
   "source": [
    "# y matches the number of images in X\n",
    "y.shape"
   ]
  },
  {
   "cell_type": "markdown",
   "id": "8c695f4c-fec2-4daa-8b6c-bac4b42f7fb5",
   "metadata": {},
   "source": [
    "### Baseline Model\n",
    "Our dataset is unevenly distributed between normal eyes and eyes with diabetic retinopathy, and the model needs to make correct predictions more than 60.9% of the time to beat the baseline."
   ]
  },
  {
   "cell_type": "code",
   "execution_count": 7,
   "id": "a64c2897-05c8-45ff-a8f4-76216601e05d",
   "metadata": {},
   "outputs": [
    {
     "name": "stdout",
     "output_type": "stream",
     "text": [
      "There are 300 non-diseased eye images and 468 images of eyes with diabetic retinopathy in the dataset.\n",
      "This gives a baseline accuracy of 0.609\n"
     ]
    }
   ],
   "source": [
    "print(f'There are {len(y)-y.sum()} non-diseased eye images and {y.sum()} images of eyes with diabetic retinopathy in the dataset.')\n",
    "\n",
    "# Since y is binary with values of 0 and 1, the baseline accuracy can be found by summing y and dividing by the length of y\n",
    "# The baseline accuracy is the higher of this value and 1 - this value\n",
    "# rounding the numbers to 3 places to make the formatting nicer\n",
    "print(f'This gives a baseline accuracy of {round(np.array([(y.sum() / len(y)),(1-(y.sum()/len(y)))]).max(), 3)}')"
   ]
  },
  {
   "cell_type": "markdown",
   "id": "164e147d-db8f-41b7-b481-2bae672c7c55",
   "metadata": {},
   "source": [
    "### Train-Test Split"
   ]
  },
  {
   "cell_type": "code",
   "execution_count": 8,
   "id": "943563d9-49f4-4888-8331-27f9407112a4",
   "metadata": {},
   "outputs": [],
   "source": [
    "# regular train-test-split \n",
    "# no need for StandardScaler because the images have already been normalized\n",
    "\n",
    "# using a test_size of 128 so test and train sizes are both divisible by 32, the batch_size\n",
    "# to use with image augmentation\n",
    "X_train, X_test, y_train, y_test = train_test_split(X, y, test_size=128, random_state=42, stratify=y)"
   ]
  },
  {
   "cell_type": "code",
   "execution_count": 9,
   "id": "3d49ffa5-fa42-4272-be33-965cc9930b79",
   "metadata": {},
   "outputs": [
    {
     "data": {
      "text/plain": [
       "(640, 512, 512, 3)"
      ]
     },
     "execution_count": 9,
     "metadata": {},
     "output_type": "execute_result"
    }
   ],
   "source": [
    "X_train.shape"
   ]
  },
  {
   "cell_type": "markdown",
   "id": "1d7839fb-ddb6-4fcc-9649-af1dc8869f89",
   "metadata": {},
   "source": [
    "### Image Augmentation "
   ]
  },
  {
   "cell_type": "code",
   "execution_count": 10,
   "id": "a922fc48-3022-4b6b-9be3-aae4511b3fac",
   "metadata": {},
   "outputs": [],
   "source": [
    "# creating the same ImageDataGenerators as the ones made in the Glaucoma model\n",
    "\n",
    "image_generator_train = ImageDataGenerator(rescale=1.0/255.0, horizontal_flip=True, rotation_range=30, brightness_range=(.8,1.2))\n",
    "image_generator_test = ImageDataGenerator(rescale=1.0/255.0)\n",
    "image_generator_train.fit(X_train)"
   ]
  },
  {
   "cell_type": "markdown",
   "id": "776dd38a-1bde-4403-9502-33d18d2c2dc1",
   "metadata": {},
   "source": [
    "### Building the CNN Model"
   ]
  },
  {
   "cell_type": "code",
   "execution_count": 11,
   "id": "6baaeb65-65c3-417c-b882-56e3bc73d13d",
   "metadata": {},
   "outputs": [],
   "source": [
    "# instantiate a Sequential model (that will process each layer sequentially)\n",
    "model = Sequential()"
   ]
  },
  {
   "cell_type": "code",
   "execution_count": 12,
   "id": "207bcbf3-ec8f-4d3c-a8a8-2f9abc454857",
   "metadata": {},
   "outputs": [],
   "source": [
    "# add a Convolutional 2D layer that will create 16 3x3 filters to detect image features\n",
    "model.add(Conv2D(16, (3,3), activation='relu', input_shape=(512,512,3)))"
   ]
  },
  {
   "cell_type": "code",
   "execution_count": 13,
   "id": "2267b39c-9f9a-4740-b6dd-faccf985ed14",
   "metadata": {},
   "outputs": [],
   "source": [
    "# add a MaxPooling 2D layer that will take the maximum value in every 2x2 grid (with a stride defaulting to the pool_size)\n",
    "# this effectively cuts the dimensions of the data in half, and helps get rid of noise caused by small variations in the image\n",
    "\n",
    "model.add(MaxPooling2D(pool_size=(2,2)))"
   ]
  },
  {
   "cell_type": "code",
   "execution_count": 14,
   "id": "476205ad-de18-4027-b8c5-0f180d94c004",
   "metadata": {},
   "outputs": [],
   "source": [
    "# add more convolutional layers (with max pooling between each one) \n",
    "\n",
    "# increasing filters to 32\n",
    "# input shape is only needed for the first layer above\n",
    "model.add(Conv2D(32, (3,3), activation='relu'))\n",
    "model.add(MaxPooling2D((2,2)))\n",
    "\n",
    "model.add(Conv2D(32, (3,3), activation='relu'))\n",
    "model.add(MaxPooling2D((2,2)))\n",
    "\n",
    "# increasing filters to 64\n",
    "model.add(Conv2D(64, (3,3), activation='relu'))\n",
    "model.add(MaxPooling2D((2,2)))"
   ]
  },
  {
   "cell_type": "code",
   "execution_count": 15,
   "id": "7a2dea11-4860-481f-8355-c9044640a48c",
   "metadata": {},
   "outputs": [],
   "source": [
    "# add a flatten layer to bridge between the convolutional layers and the dense layers\n",
    "model.add(Flatten())"
   ]
  },
  {
   "cell_type": "code",
   "execution_count": 16,
   "id": "6dbb87d6-f17c-4068-9020-45982992a2dd",
   "metadata": {},
   "outputs": [],
   "source": [
    "# the dense layers analyze the features that were identified in the convolutional layers \n",
    "model.add(Dense(256, activation='relu'))\n",
    "model.add(Dense(256, activation='relu'))"
   ]
  },
  {
   "cell_type": "code",
   "execution_count": 17,
   "id": "987b4e18-8c1b-4966-8901-0fe58b61f989",
   "metadata": {},
   "outputs": [],
   "source": [
    "# add the output layer with sigmoid activatin since it's a binary classification\n",
    "model.add(Dense(1, activation='sigmoid'))"
   ]
  },
  {
   "cell_type": "code",
   "execution_count": 18,
   "id": "f22ff4cb-96d0-49c3-b77b-a77f79804193",
   "metadata": {},
   "outputs": [],
   "source": [
    "# compile the model using binary_crossentropy, accuracy metrics, and the adam optimizer\n",
    "model.compile(loss='binary_crossentropy', metrics=['accuracy'], optimizer='adam')"
   ]
  },
  {
   "cell_type": "markdown",
   "id": "560a3217-f61f-47ba-8696-543c6acf28ba",
   "metadata": {},
   "source": [
    "### Fitting the Model"
   ]
  },
  {
   "cell_type": "code",
   "execution_count": 19,
   "id": "6c22078e-bee0-4f13-844c-52e9abd1c37e",
   "metadata": {},
   "outputs": [],
   "source": [
    "# adding early stopping\n",
    "early_stop = EarlyStopping(monitor='val_loss', min_delta=.01, patience=5, verbose=1, mode='auto')"
   ]
  },
  {
   "cell_type": "code",
   "execution_count": 24,
   "id": "61749c92-481b-44c0-b03c-1d799c0038fd",
   "metadata": {},
   "outputs": [
    {
     "name": "stdout",
     "output_type": "stream",
     "text": [
      "Epoch 1/30\n",
      "20/20 [==============================] - 139s 7s/step - loss: 0.4442 - accuracy: 0.7750 - val_loss: 0.2713 - val_accuracy: 0.9219\n",
      "Epoch 2/30\n",
      "20/20 [==============================] - 135s 7s/step - loss: 0.3579 - accuracy: 0.8469 - val_loss: 0.2597 - val_accuracy: 0.8906\n",
      "Epoch 3/30\n",
      "20/20 [==============================] - 135s 7s/step - loss: 0.3402 - accuracy: 0.8438 - val_loss: 0.1877 - val_accuracy: 0.9375\n",
      "Epoch 4/30\n",
      "20/20 [==============================] - 123s 6s/step - loss: 0.3671 - accuracy: 0.8375 - val_loss: 0.2685 - val_accuracy: 0.8906\n",
      "Epoch 5/30\n",
      "20/20 [==============================] - 121s 6s/step - loss: 0.3159 - accuracy: 0.8578 - val_loss: 0.2237 - val_accuracy: 0.9219\n",
      "Epoch 6/30\n",
      "20/20 [==============================] - 126s 6s/step - loss: 0.3264 - accuracy: 0.8562 - val_loss: 0.2159 - val_accuracy: 0.9297\n",
      "Epoch 7/30\n",
      "20/20 [==============================] - 130s 6s/step - loss: 0.3112 - accuracy: 0.8562 - val_loss: 0.2068 - val_accuracy: 0.9297\n",
      "Epoch 8/30\n",
      "20/20 [==============================] - 124s 6s/step - loss: 0.3208 - accuracy: 0.8516 - val_loss: 0.2536 - val_accuracy: 0.9297\n",
      "Epoch 00008: early stopping\n"
     ]
    }
   ],
   "source": [
    "# fit the model and save it as h so the accuracy and loss scores for each epoch can be visualized\n",
    "\n",
    "# use a batch size divisible by the number of images in X_train\n",
    "h = model.fit(image_generator_train.flow(X_train, y_train, batch_size=32), validation_data=(image_generator_test.flow(X_test, y_test, batch_size=32)), steps_per_epoch=len(X_train)/32, epochs=30, callbacks=[early_stop])"
   ]
  },
  {
   "cell_type": "markdown",
   "id": "1ae000bc-fd50-46c0-88fc-9cf9d39e1466",
   "metadata": {},
   "source": [
    "This model reaches 85.2% training accuracy and 93% testing accuracy before early stopping after 8 epochs. \n",
    "\n",
    "As with the Glaucoma detection model, it's possible that early stopping ended training too early. The training accuracy is lower than the testing accuracy, indicating the model still has room to become more accurate. However, training and testing accuracy flatten out over the final epochs, and it's unclear if more training would increase the scores."
   ]
  },
  {
   "cell_type": "markdown",
   "id": "f4038efa-c62e-4a36-b044-652eccb55eb4",
   "metadata": {},
   "source": [
    "### Saving the Model"
   ]
  },
  {
   "cell_type": "code",
   "execution_count": null,
   "id": "c93aae34-835f-4dfb-adf3-c0fb2492b7b4",
   "metadata": {},
   "outputs": [],
   "source": [
    "# code to save the model as an h5 file so that it can be used in Flask\n",
    "\n",
    "# commenting out the code so it doesn't run again by accident\n",
    "#model.save('retinopathy_image_aug_model.h5')"
   ]
  },
  {
   "cell_type": "markdown",
   "id": "501cd77b-cb33-4491-88c5-87793dc81b46",
   "metadata": {},
   "source": [
    "### Visualizing the accuracy and loss scores for each epoch"
   ]
  },
  {
   "cell_type": "code",
   "execution_count": 43,
   "id": "131414e6-b158-4d8a-94f0-20860cbe2913",
   "metadata": {},
   "outputs": [
    {
     "data": {
      "image/png": "[encoded data removed]",
      "text/plain": [
       "<Figure size 936x288 with 2 Axes>"
      ]
     },
     "metadata": {
      "needs_background": "light"
     },
     "output_type": "display_data"
    }
   ],
   "source": [
    "fig, axs = plt.subplots(1, 2, figsize=(13,4))\n",
    "\n",
    "fig.suptitle('Detecting Diabetic Retinopathy')\n",
    "\n",
    "# plot training and testing accuracy\n",
    "axs[0].plot(h.history['accuracy'], label='Training Accuracy')\n",
    "axs[0].plot(h.history['val_accuracy'], label='Testing Accuracy')\n",
    "\n",
    "# add titles, labels, and tick formatting \n",
    "axs[0].set_title('Model Accuracy For Successive Epochs')\n",
    "axs[0].set_xlabel('Epoch')\n",
    "axs[0].set_xticks(ticks=range(0,9))\n",
    "axs[0].set_xticklabels(labels=range(1,10))\n",
    "axs[0].set_ylabel('Accuracy')\n",
    "axs[0].set_ylim(.5,1)\n",
    "\n",
    "# add a legend\n",
    "axs[0].legend()\n",
    "\n",
    "# plot training and testing loss\n",
    "axs[1].plot(h.history['loss'], label='Training Loss')\n",
    "axs[1].plot(h.history['val_loss'], label='Testing Loss')\n",
    "\n",
    "# add titles, labels, and tick formatting\n",
    "axs[1].set_title('Model Loss For Successive Epochs')\n",
    "axs[1].set_xlabel('Epoch')\n",
    "axs[1].set_xticks(ticks=range(0,9))\n",
    "axs[1].set_xticklabels(labels=range(1,10))\n",
    "axs[1].set_ylabel('Loss')\n",
    "axs[1].set_ylim(0,1)\n",
    "\n",
    "# add a legend\n",
    "axs[1].legend();\n"
   ]
  },
  {
   "cell_type": "markdown",
   "id": "5e5295e9-0776-4548-bd19-dd9702dcfdfd",
   "metadata": {},
   "source": [
    "These plots have a very similar shape to the plots for the Glaucoma model, but the training and testing scores are further apart. The model consistently does better with the testing data instead of the training data, perhaps indicating the image augmentation is producing images that are outside the range of what would be seen in actual images, and that diabetic retinopathy is easier for machine learning to detect than glaucoma. The training accuracy scores are roughly the same as in the Glaucoma model, around 85%, while the testing accuracy stays in the 90-93% range, which is better than in the Glaucoma model. Using early stopping may again have limited the model's ability to learn, since it's unclear if the scores have truly leveled out or if they would continue to improve."
   ]
  },
  {
   "cell_type": "markdown",
   "id": "fd4386aa-9f0c-4cdf-9480-02fb886ed8b1",
   "metadata": {},
   "source": [
    "### Making a Confusion Matrix"
   ]
  },
  {
   "cell_type": "code",
   "execution_count": 60,
   "id": "781b4a83-42da-4759-8c4c-a7a49d06a9b0",
   "metadata": {
    "tags": []
   },
   "outputs": [],
   "source": [
    "# generate predictions from X_test\n",
    "# in order to generate predictions correctly, the X_test images need to be fed to model.predict through\n",
    "# image_generator_test with shuffle set to False\n",
    "\n",
    "preds = model.predict(image_generator_test.flow(X_test, shuffle=False))"
   ]
  },
  {
   "cell_type": "code",
   "execution_count": 67,
   "id": "bd1507ea-907e-452d-8636-e66b4f8b59e7",
   "metadata": {},
   "outputs": [
    {
     "name": "stdout",
     "output_type": "stream",
     "text": [
      "[[0.30433744]\n",
      " [0.45392984]\n",
      " [0.9999554 ]\n",
      " [0.9999972 ]\n",
      " [0.78217995]\n",
      " [0.34320462]\n",
      " [0.843678  ]\n",
      " [0.9999551 ]\n",
      " [0.5559897 ]\n",
      " [0.99999774]]\n"
     ]
    }
   ],
   "source": [
    "# the predictions are probabilities of whether to class the image as 0 (normal) or 1 (diseased)\n",
    "print(preds[0:10])"
   ]
  },
  {
   "cell_type": "code",
   "execution_count": 68,
   "id": "5a00dcfb-f905-40a2-bb2d-a53b8aada7ee",
   "metadata": {},
   "outputs": [],
   "source": [
    "# change the probabilities into 1s and 0s by testing if the probability is greater than .5 and turning \n",
    "# the True/False value into an int of 1 or 0\n",
    "preds = [int(x>0.5) for x in preds]"
   ]
  },
  {
   "cell_type": "code",
   "execution_count": 69,
   "id": "b1c2603f-b7c1-40ec-8cb8-491602190c46",
   "metadata": {},
   "outputs": [
    {
     "name": "stdout",
     "output_type": "stream",
     "text": [
      "[0, 0, 1, 1, 1, 0, 1, 1, 1, 1, 1, 1, 0, 0, 1, 1, 0, 1, 1, 1, 0, 0, 1, 1, 1, 0, 0, 0, 0, 1, 1, 0, 1, 0, 1, 1, 1, 0, 1, 1, 0, 1, 1, 0, 1, 1, 1, 0, 1, 0, 0, 1, 0, 1, 1, 1, 0, 1, 1, 1, 1, 1, 0, 1, 1, 0, 1, 1, 0, 1, 1, 1, 1, 1, 0, 0, 1, 0, 1, 1, 1, 1, 0, 1, 1, 1, 0, 0, 0, 1, 0, 0, 1, 1, 0, 0, 1, 1, 1, 1, 0, 0, 0, 0, 1, 0, 1, 1, 0, 0, 0, 0, 0, 1, 1, 0, 1, 0, 1, 1, 1, 1, 1, 1, 1, 1, 1, 0]\n"
     ]
    }
   ],
   "source": [
    "# now the predictions can be used in the confusion matrix\n",
    "print(preds)"
   ]
  },
  {
   "cell_type": "code",
   "execution_count": 43,
   "id": "1e727512-107d-4d8c-8100-f02e6deae495",
   "metadata": {},
   "outputs": [
    {
     "data": {
      "text/plain": [
       "array([0, 0, 1, 1, 0, 0, 0, 1, 1, 1, 1, 1, 0, 0, 1, 1, 0, 1, 1, 1, 0, 0,\n",
       "       1, 1, 1, 0, 0, 0, 1, 0, 0, 0, 1, 0, 1, 1, 1, 0, 1, 1, 0, 1, 1, 0,\n",
       "       1, 1, 1, 0, 1, 1, 0, 1, 1, 1, 1, 1, 0, 1, 1, 1, 1, 1, 0, 1, 1, 0,\n",
       "       1, 1, 0, 1, 1, 1, 1, 1, 0, 0, 1, 0, 1, 1, 1, 0, 0, 1, 1, 1, 0, 0,\n",
       "       0, 1, 0, 0, 1, 1, 0, 0, 1, 1, 1, 1, 0, 0, 0, 0, 1, 0, 1, 1, 0, 0,\n",
       "       0, 0, 1, 1, 1, 0, 1, 0, 1, 1, 1, 1, 1, 1, 1, 1, 1, 0])"
      ]
     },
     "execution_count": 43,
     "metadata": {},
     "output_type": "execute_result"
    }
   ],
   "source": [
    "# the true values to compare to the predictions are stored in y_test\n",
    "y_test"
   ]
  },
  {
   "cell_type": "code",
   "execution_count": 7,
   "id": "18c2addf-7e56-4cb4-8c9d-811cf997d3e0",
   "metadata": {},
   "outputs": [
    {
     "ename": "NameError",
     "evalue": "name 'y_test' is not defined",
     "output_type": "error",
     "traceback": [
      "\u001b[0;31m---------------------------------------------------------------------------\u001b[0m",
      "\u001b[0;31mNameError\u001b[0m                                 Traceback (most recent call last)",
      "\u001b[0;32m<ipython-input-7-b566b78083fc>\u001b[0m in \u001b[0;36m<module>\u001b[0;34m\u001b[0m\n\u001b[1;32m      1\u001b[0m \u001b[0;31m# make and display a confusion matrix\u001b[0m\u001b[0;34m\u001b[0m\u001b[0;34m\u001b[0m\u001b[0;34m\u001b[0m\u001b[0m\n\u001b[0;32m----> 2\u001b[0;31m \u001b[0mconf_matrix\u001b[0m \u001b[0;34m=\u001b[0m \u001b[0mconfusion_matrix\u001b[0m\u001b[0;34m(\u001b[0m\u001b[0my_test\u001b[0m\u001b[0;34m,\u001b[0m \u001b[0mpreds\u001b[0m\u001b[0;34m)\u001b[0m\u001b[0;34m\u001b[0m\u001b[0;34m\u001b[0m\u001b[0m\n\u001b[0m\u001b[1;32m      3\u001b[0m \u001b[0mConfusionMatrixDisplay\u001b[0m\u001b[0;34m(\u001b[0m\u001b[0mconfusion_matrix\u001b[0m\u001b[0;34m=\u001b[0m\u001b[0mconf_matrix\u001b[0m\u001b[0;34m,\u001b[0m \u001b[0mdisplay_labels\u001b[0m\u001b[0;34m=\u001b[0m\u001b[0;34m[\u001b[0m\u001b[0;34m'Normal'\u001b[0m\u001b[0;34m,\u001b[0m\u001b[0;34m'Retinopathy'\u001b[0m\u001b[0;34m]\u001b[0m\u001b[0;34m)\u001b[0m\u001b[0;34m.\u001b[0m\u001b[0mplot\u001b[0m\u001b[0;34m(\u001b[0m\u001b[0;34m)\u001b[0m\u001b[0;34m;\u001b[0m\u001b[0;34m\u001b[0m\u001b[0;34m\u001b[0m\u001b[0m\n",
      "\u001b[0;31mNameError\u001b[0m: name 'y_test' is not defined"
     ]
    }
   ],
   "source": [
    "# make and display a confusion matrix\n",
    "conf_matrix = confusion_matrix(y_test, preds)\n",
    "ConfusionMatrixDisplay(confusion_matrix=conf_matrix, display_labels=['Normal','Retinopathy']).plot();"
   ]
  },
  {
   "cell_type": "code",
   "execution_count": 73,
   "id": "71aaa5f1-44b1-4176-a79c-cd61f7fd776f",
   "metadata": {},
   "outputs": [
    {
     "name": "stdout",
     "output_type": "stream",
     "text": [
      "              precision    recall  f1-score   support\n",
      "\n",
      "           0       0.92      0.90      0.91        50\n",
      "           1       0.94      0.95      0.94        78\n",
      "\n",
      "    accuracy                           0.93       128\n",
      "   macro avg       0.93      0.92      0.93       128\n",
      "weighted avg       0.93      0.93      0.93       128\n",
      "\n"
     ]
    }
   ],
   "source": [
    "print(classification_report(y_test, preds))"
   ]
  },
  {
   "cell_type": "markdown",
   "id": "a11b8223-03c9-478c-a267-af0d5209ace8",
   "metadata": {},
   "source": [
    "Compared to the Glaucoma model, this Diabetic Retinopathy model performs better overall, with 93% accuracy and a 95% sensitivity rate. These numbers indicate that this disease is easier for the model to detect than glaucoma. The model only mis-labels 4 eyes as normal when they have diabetic retinopathy, out of 78 eyes in total that have diabetic retinopathy. This is still not optimal, but it is getting close. For medical diagnosis, it is better to minimize false negatives because the patients with the condition are identified and able to start treatment. "
   ]
  },
  {
   "cell_type": "markdown",
   "id": "463ea776-ae9b-4d56-9bc4-4bbba05c3ee9",
   "metadata": {},
   "source": [
    "### Conclusions"
   ]
  },
  {
   "cell_type": "markdown",
   "id": "2aeae56e-5aa8-4a40-a2a7-8b8b16572ec1",
   "metadata": {},
   "source": [
    "As with the Glaucoma model, this Diabetic Retinopathy model is not yet ready for deployment in a medical diagnosis setting but shows promise. Training the model on more images (including many more actual images, rather than images generated through image augmentation) would likely lead to better performance that could make this model suitable for real diagnostics."
   ]
  },
  {
   "cell_type": "code",
   "execution_count": null,
   "id": "f37937ba-27c4-46f4-bed1-8d40029fec88",
   "metadata": {},
   "outputs": [],
   "source": []
  }
 ],
 "metadata": {
  "kernelspec": {
   "display_name": "Python 3",
   "language": "python",
   "name": "python3"
  },
  "language_info": {
   "codemirror_mode": {
    "name": "ipython",
    "version": 3
   },
   "file_extension": ".py",
   "mimetype": "text/x-python",
   "name": "python",
   "nbconvert_exporter": "python",
   "pygments_lexer": "ipython3",
   "version": "3.8.8"
  }
 },
 "nbformat": 4,
 "nbformat_minor": 5
}
