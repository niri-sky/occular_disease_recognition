{
 "cells": [
  {
   "cell_type": "code",
   "execution_count": 1,
   "id": "e7800bea-b24a-4714-8798-f05c983cacd8",
   "metadata": {},
   "outputs": [],
   "source": [
    "import pandas as pd\n",
    "import numpy as np\n",
    "import matplotlib.pyplot as plt"
   ]
  },
  {
   "cell_type": "code",
   "execution_count": 2,
   "id": "3f55c950-c9d1-4543-869e-fc39b83b760b",
   "metadata": {},
   "outputs": [],
   "source": [
    "df = pd.read_csv('./food.csv')"
   ]
  },
  {
   "cell_type": "code",
   "execution_count": 3,
   "id": "7bc70916-5fab-41c5-a63c-73c24a035ac5",
   "metadata": {},
   "outputs": [
    {
     "data": {
      "text/html": [
       "<div>\n",
       "<style scoped>\n",
       "    .dataframe tbody tr th:only-of-type {\n",
       "        vertical-align: middle;\n",
       "    }\n",
       "\n",
       "    .dataframe tbody tr th {\n",
       "        vertical-align: top;\n",
       "    }\n",
       "\n",
       "    .dataframe thead th {\n",
       "        text-align: right;\n",
       "    }\n",
       "</style>\n",
       "<table border=\"1\" class=\"dataframe\">\n",
       "  <thead>\n",
       "    <tr style=\"text-align: right;\">\n",
       "      <th></th>\n",
       "      <th>Category</th>\n",
       "      <th>Description</th>\n",
       "      <th>Nutrient Data Bank Number</th>\n",
       "      <th>Data.Alpha Carotene</th>\n",
       "      <th>Data.Ash</th>\n",
       "      <th>Data.Beta Carotene</th>\n",
       "      <th>Data.Beta Cryptoxanthin</th>\n",
       "      <th>Data.Carbohydrate</th>\n",
       "      <th>Data.Cholesterol</th>\n",
       "      <th>Data.Choline</th>\n",
       "      <th>...</th>\n",
       "      <th>Data.Major Minerals.Potassium</th>\n",
       "      <th>Data.Major Minerals.Sodium</th>\n",
       "      <th>Data.Major Minerals.Zinc</th>\n",
       "      <th>Data.Vitamins.Vitamin A - IU</th>\n",
       "      <th>Data.Vitamins.Vitamin A - RAE</th>\n",
       "      <th>Data.Vitamins.Vitamin B12</th>\n",
       "      <th>Data.Vitamins.Vitamin B6</th>\n",
       "      <th>Data.Vitamins.Vitamin C</th>\n",
       "      <th>Data.Vitamins.Vitamin E</th>\n",
       "      <th>Data.Vitamins.Vitamin K</th>\n",
       "    </tr>\n",
       "  </thead>\n",
       "  <tbody>\n",
       "    <tr>\n",
       "      <th>0</th>\n",
       "      <td>BUTTER</td>\n",
       "      <td>BUTTER,WITH SALT</td>\n",
       "      <td>1001</td>\n",
       "      <td>0</td>\n",
       "      <td>2.11</td>\n",
       "      <td>158</td>\n",
       "      <td>0</td>\n",
       "      <td>0.06</td>\n",
       "      <td>215</td>\n",
       "      <td>19</td>\n",
       "      <td>...</td>\n",
       "      <td>24</td>\n",
       "      <td>576</td>\n",
       "      <td>0.09</td>\n",
       "      <td>2499</td>\n",
       "      <td>684</td>\n",
       "      <td>0.17</td>\n",
       "      <td>0.003</td>\n",
       "      <td>0.0</td>\n",
       "      <td>2.32</td>\n",
       "      <td>7.0</td>\n",
       "    </tr>\n",
       "    <tr>\n",
       "      <th>1</th>\n",
       "      <td>BUTTER</td>\n",
       "      <td>BUTTER,WHIPPED,WITH SALT</td>\n",
       "      <td>1002</td>\n",
       "      <td>0</td>\n",
       "      <td>2.11</td>\n",
       "      <td>158</td>\n",
       "      <td>0</td>\n",
       "      <td>0.06</td>\n",
       "      <td>219</td>\n",
       "      <td>19</td>\n",
       "      <td>...</td>\n",
       "      <td>26</td>\n",
       "      <td>827</td>\n",
       "      <td>0.05</td>\n",
       "      <td>2499</td>\n",
       "      <td>684</td>\n",
       "      <td>0.13</td>\n",
       "      <td>0.003</td>\n",
       "      <td>0.0</td>\n",
       "      <td>2.32</td>\n",
       "      <td>7.0</td>\n",
       "    </tr>\n",
       "    <tr>\n",
       "      <th>2</th>\n",
       "      <td>BUTTER OIL</td>\n",
       "      <td>BUTTER OIL,ANHYDROUS</td>\n",
       "      <td>1003</td>\n",
       "      <td>0</td>\n",
       "      <td>0.00</td>\n",
       "      <td>193</td>\n",
       "      <td>0</td>\n",
       "      <td>0.00</td>\n",
       "      <td>256</td>\n",
       "      <td>22</td>\n",
       "      <td>...</td>\n",
       "      <td>5</td>\n",
       "      <td>2</td>\n",
       "      <td>0.01</td>\n",
       "      <td>3069</td>\n",
       "      <td>840</td>\n",
       "      <td>0.01</td>\n",
       "      <td>0.001</td>\n",
       "      <td>0.0</td>\n",
       "      <td>2.80</td>\n",
       "      <td>8.6</td>\n",
       "    </tr>\n",
       "    <tr>\n",
       "      <th>3</th>\n",
       "      <td>CHEESE</td>\n",
       "      <td>CHEESE,BLUE</td>\n",
       "      <td>1004</td>\n",
       "      <td>0</td>\n",
       "      <td>5.11</td>\n",
       "      <td>74</td>\n",
       "      <td>0</td>\n",
       "      <td>2.34</td>\n",
       "      <td>75</td>\n",
       "      <td>15</td>\n",
       "      <td>...</td>\n",
       "      <td>256</td>\n",
       "      <td>1395</td>\n",
       "      <td>2.66</td>\n",
       "      <td>763</td>\n",
       "      <td>198</td>\n",
       "      <td>1.22</td>\n",
       "      <td>0.166</td>\n",
       "      <td>0.0</td>\n",
       "      <td>0.25</td>\n",
       "      <td>2.4</td>\n",
       "    </tr>\n",
       "    <tr>\n",
       "      <th>4</th>\n",
       "      <td>CHEESE</td>\n",
       "      <td>CHEESE,BRICK</td>\n",
       "      <td>1005</td>\n",
       "      <td>0</td>\n",
       "      <td>3.18</td>\n",
       "      <td>76</td>\n",
       "      <td>0</td>\n",
       "      <td>2.79</td>\n",
       "      <td>94</td>\n",
       "      <td>15</td>\n",
       "      <td>...</td>\n",
       "      <td>136</td>\n",
       "      <td>560</td>\n",
       "      <td>2.60</td>\n",
       "      <td>1080</td>\n",
       "      <td>292</td>\n",
       "      <td>1.26</td>\n",
       "      <td>0.065</td>\n",
       "      <td>0.0</td>\n",
       "      <td>0.26</td>\n",
       "      <td>2.5</td>\n",
       "    </tr>\n",
       "  </tbody>\n",
       "</table>\n",
       "<p>5 rows × 48 columns</p>\n",
       "</div>"
      ],
      "text/plain": [
       "     Category               Description  Nutrient Data Bank Number  \\\n",
       "0      BUTTER          BUTTER,WITH SALT                       1001   \n",
       "1      BUTTER  BUTTER,WHIPPED,WITH SALT                       1002   \n",
       "2  BUTTER OIL      BUTTER OIL,ANHYDROUS                       1003   \n",
       "3      CHEESE               CHEESE,BLUE                       1004   \n",
       "4      CHEESE              CHEESE,BRICK                       1005   \n",
       "\n",
       "   Data.Alpha Carotene  Data.Ash  Data.Beta Carotene  Data.Beta Cryptoxanthin  \\\n",
       "0                    0      2.11                 158                        0   \n",
       "1                    0      2.11                 158                        0   \n",
       "2                    0      0.00                 193                        0   \n",
       "3                    0      5.11                  74                        0   \n",
       "4                    0      3.18                  76                        0   \n",
       "\n",
       "   Data.Carbohydrate  Data.Cholesterol  Data.Choline  ...  \\\n",
       "0               0.06               215            19  ...   \n",
       "1               0.06               219            19  ...   \n",
       "2               0.00               256            22  ...   \n",
       "3               2.34                75            15  ...   \n",
       "4               2.79                94            15  ...   \n",
       "\n",
       "   Data.Major Minerals.Potassium  Data.Major Minerals.Sodium  \\\n",
       "0                             24                         576   \n",
       "1                             26                         827   \n",
       "2                              5                           2   \n",
       "3                            256                        1395   \n",
       "4                            136                         560   \n",
       "\n",
       "   Data.Major Minerals.Zinc  Data.Vitamins.Vitamin A - IU  \\\n",
       "0                      0.09                          2499   \n",
       "1                      0.05                          2499   \n",
       "2                      0.01                          3069   \n",
       "3                      2.66                           763   \n",
       "4                      2.60                          1080   \n",
       "\n",
       "   Data.Vitamins.Vitamin A - RAE  Data.Vitamins.Vitamin B12  \\\n",
       "0                            684                       0.17   \n",
       "1                            684                       0.13   \n",
       "2                            840                       0.01   \n",
       "3                            198                       1.22   \n",
       "4                            292                       1.26   \n",
       "\n",
       "   Data.Vitamins.Vitamin B6  Data.Vitamins.Vitamin C  Data.Vitamins.Vitamin E  \\\n",
       "0                     0.003                      0.0                     2.32   \n",
       "1                     0.003                      0.0                     2.32   \n",
       "2                     0.001                      0.0                     2.80   \n",
       "3                     0.166                      0.0                     0.25   \n",
       "4                     0.065                      0.0                     0.26   \n",
       "\n",
       "   Data.Vitamins.Vitamin K  \n",
       "0                      7.0  \n",
       "1                      7.0  \n",
       "2                      8.6  \n",
       "3                      2.4  \n",
       "4                      2.5  \n",
       "\n",
       "[5 rows x 48 columns]"
      ]
     },
     "execution_count": 3,
     "metadata": {},
     "output_type": "execute_result"
    }
   ],
   "source": [
    "df.head()"
   ]
  },
  {
   "cell_type": "code",
   "execution_count": 4,
   "id": "d5d5b857-bed7-4437-8170-480640914ebb",
   "metadata": {},
   "outputs": [
    {
     "data": {
      "text/plain": [
       "Category                                                      0\n",
       "Description                                                   0\n",
       "Nutrient Data Bank Number                                     0\n",
       "Data.Alpha Carotene                                           0\n",
       "Data.Ash                                                      0\n",
       "Data.Beta Carotene                                            0\n",
       "Data.Beta Cryptoxanthin                                       0\n",
       "Data.Carbohydrate                                             0\n",
       "Data.Cholesterol                                              0\n",
       "Data.Choline                                                  0\n",
       "Data.Fiber                                                    0\n",
       "Data.Kilocalories                                             0\n",
       "Data.Lutein and Zeaxanthin                                    0\n",
       "Data.Lycopene                                                 0\n",
       "Data.Manganese                                                0\n",
       "Data.Niacin                                                   0\n",
       "Data.Pantothenic Acid                                         0\n",
       "Data.Protein                                                  0\n",
       "Data.Refuse Percentage                                        0\n",
       "Data.Retinol                                                  0\n",
       "Data.Riboflavin                                               0\n",
       "Data.Selenium                                                 0\n",
       "Data.Sugar Total                                              0\n",
       "Data.Thiamin                                                  0\n",
       "Data.Water                                                    0\n",
       "Data.Fat.Monosaturated Fat                                    0\n",
       "Data.Fat.Polysaturated Fat                                    0\n",
       "Data.Fat.Saturated Fat                                        0\n",
       "Data.Fat.Total Lipid                                          0\n",
       "Data.Household Weights.1st Household Weight                   0\n",
       "Data.Household Weights.1st Household Weight Description     470\n",
       "Data.Household Weights.2nd Household Weight                   0\n",
       "Data.Household Weights.2nd Household Weight Description    3100\n",
       "Data.Major Minerals.Calcium                                   0\n",
       "Data.Major Minerals.Copper                                    0\n",
       "Data.Major Minerals.Iron                                      0\n",
       "Data.Major Minerals.Magnesium                                 0\n",
       "Data.Major Minerals.Phosphorus                                0\n",
       "Data.Major Minerals.Potassium                                 0\n",
       "Data.Major Minerals.Sodium                                    0\n",
       "Data.Major Minerals.Zinc                                      0\n",
       "Data.Vitamins.Vitamin A - IU                                  0\n",
       "Data.Vitamins.Vitamin A - RAE                                 0\n",
       "Data.Vitamins.Vitamin B12                                     0\n",
       "Data.Vitamins.Vitamin B6                                      0\n",
       "Data.Vitamins.Vitamin C                                       0\n",
       "Data.Vitamins.Vitamin E                                       0\n",
       "Data.Vitamins.Vitamin K                                       0\n",
       "dtype: int64"
      ]
     },
     "execution_count": 4,
     "metadata": {},
     "output_type": "execute_result"
    }
   ],
   "source": [
    "df.isnull().sum()"
   ]
  },
  {
   "cell_type": "code",
   "execution_count": 10,
   "id": "a76ec346-f962-495e-9033-b1897d5f6684",
   "metadata": {},
   "outputs": [],
   "source": [
    "dfs = pd.read_excel('eye.xlsx', sheet_name='Sheet1')"
   ]
  },
  {
   "cell_type": "code",
   "execution_count": 11,
   "id": "0fc65cf7-0cee-499d-b0dc-f0ade89e9ea4",
   "metadata": {},
   "outputs": [
    {
     "data": {
      "text/html": [
       "<div>\n",
       "<style scoped>\n",
       "    .dataframe tbody tr th:only-of-type {\n",
       "        vertical-align: middle;\n",
       "    }\n",
       "\n",
       "    .dataframe tbody tr th {\n",
       "        vertical-align: top;\n",
       "    }\n",
       "\n",
       "    .dataframe thead th {\n",
       "        text-align: right;\n",
       "    }\n",
       "</style>\n",
       "<table border=\"1\" class=\"dataframe\">\n",
       "  <thead>\n",
       "    <tr style=\"text-align: right;\">\n",
       "      <th></th>\n",
       "      <th>state</th>\n",
       "      <th>vision_problem</th>\n",
       "      <th>race</th>\n",
       "      <th>sex</th>\n",
       "      <th>age</th>\n",
       "      <th>number_of_cases</th>\n",
       "      <th>prevalence_rate</th>\n",
       "      <th>population</th>\n",
       "    </tr>\n",
       "  </thead>\n",
       "  <tbody>\n",
       "    <tr>\n",
       "      <th>0</th>\n",
       "      <td>UNITED_STATES</td>\n",
       "      <td>AMD</td>\n",
       "      <td>ALL</td>\n",
       "      <td>ALL</td>\n",
       "      <td>ALL</td>\n",
       "      <td>2069403</td>\n",
       "      <td>0.0209</td>\n",
       "      <td>142648393</td>\n",
       "    </tr>\n",
       "    <tr>\n",
       "      <th>1</th>\n",
       "      <td>UNITED_STATES</td>\n",
       "      <td>AMD</td>\n",
       "      <td>ALL</td>\n",
       "      <td>ALL</td>\n",
       "      <td>50-54</td>\n",
       "      <td>79268</td>\n",
       "      <td>0.0036</td>\n",
       "      <td>22298125</td>\n",
       "    </tr>\n",
       "    <tr>\n",
       "      <th>2</th>\n",
       "      <td>UNITED_STATES</td>\n",
       "      <td>AMD</td>\n",
       "      <td>ALL</td>\n",
       "      <td>ALL</td>\n",
       "      <td>55-59</td>\n",
       "      <td>81083</td>\n",
       "      <td>0.0041</td>\n",
       "      <td>19664805</td>\n",
       "    </tr>\n",
       "    <tr>\n",
       "      <th>3</th>\n",
       "      <td>UNITED_STATES</td>\n",
       "      <td>AMD</td>\n",
       "      <td>ALL</td>\n",
       "      <td>ALL</td>\n",
       "      <td>60-64</td>\n",
       "      <td>95553</td>\n",
       "      <td>0.0057</td>\n",
       "      <td>16817924</td>\n",
       "    </tr>\n",
       "    <tr>\n",
       "      <th>4</th>\n",
       "      <td>UNITED_STATES</td>\n",
       "      <td>AMD</td>\n",
       "      <td>ALL</td>\n",
       "      <td>ALL</td>\n",
       "      <td>65-69</td>\n",
       "      <td>113107</td>\n",
       "      <td>0.0091</td>\n",
       "      <td>12435263</td>\n",
       "    </tr>\n",
       "  </tbody>\n",
       "</table>\n",
       "</div>"
      ],
      "text/plain": [
       "           state vision_problem race  sex    age  number_of_cases  \\\n",
       "0  UNITED_STATES            AMD  ALL  ALL    ALL          2069403   \n",
       "1  UNITED_STATES            AMD  ALL  ALL  50-54            79268   \n",
       "2  UNITED_STATES            AMD  ALL  ALL  55-59            81083   \n",
       "3  UNITED_STATES            AMD  ALL  ALL  60-64            95553   \n",
       "4  UNITED_STATES            AMD  ALL  ALL  65-69           113107   \n",
       "\n",
       "   prevalence_rate  population  \n",
       "0           0.0209   142648393  \n",
       "1           0.0036    22298125  \n",
       "2           0.0041    19664805  \n",
       "3           0.0057    16817924  \n",
       "4           0.0091    12435263  "
      ]
     },
     "execution_count": 11,
     "metadata": {},
     "output_type": "execute_result"
    }
   ],
   "source": [
    "dfs.head()"
   ]
  },
  {
   "cell_type": "code",
   "execution_count": 14,
   "id": "e6131feb-8a49-4c1a-b9fe-c9303ab31ac5",
   "metadata": {},
   "outputs": [
    {
     "data": {
      "text/plain": [
       "state              0\n",
       "vision_problem     0\n",
       "race               0\n",
       "sex                0\n",
       "age                0\n",
       "number_of_cases    0\n",
       "prevalence_rate    0\n",
       "population         0\n",
       "dtype: int64"
      ]
     },
     "execution_count": 14,
     "metadata": {},
     "output_type": "execute_result"
    }
   ],
   "source": [
    "dfs.isnull().sum()"
   ]
  },
  {
   "cell_type": "code",
   "execution_count": 15,
   "id": "8f3ca5ba-edba-40ef-a978-2ece4b35ee34",
   "metadata": {},
   "outputs": [
    {
     "data": {
      "text/plain": [
       "array(['ALL', '50-54', '55-59', '60-64', '65-69', '70-74', '75-79', '80+',\n",
       "       '40-49', '50-64', '65-74', '75+'], dtype=object)"
      ]
     },
     "execution_count": 15,
     "metadata": {},
     "output_type": "execute_result"
    }
   ],
   "source": [
    "dfs['age'].unique()"
   ]
  },
  {
   "cell_type": "code",
   "execution_count": 16,
   "id": "b804b68f-99b2-463a-bbf2-46486764b8c7",
   "metadata": {},
   "outputs": [
    {
     "data": {
      "text/plain": [
       "array(['UNITED_STATES', 'ALABAMA', 'ALASKA', 'ARIZONA', 'ARKANSAS',\n",
       "       'CALIFORNIA', 'COLORADO', 'CONNECTICUT', 'DELAWARE',\n",
       "       'DISTRICT_OF_COLUMBIA', 'FLORIDA', 'GEORGIA', 'HAWAII', 'IDAHO',\n",
       "       'ILLINOIS', 'INDIANA', 'IOWA', 'KANSAS', 'KENTUCKY', 'LOUISIANA',\n",
       "       'MAINE', 'MARYLAND', 'MASSACHUSETTS', 'MICHIGAN', 'MINNESOTA',\n",
       "       'MISSISSIPPI', 'MISSOURI', 'MONTANA', 'NEBRASKA', 'NEVADA',\n",
       "       'NEW_HAMPSHIRE', 'NEW_JERSEY', 'NEW_MEXICO', 'NEW_YORK',\n",
       "       'NORTH_CAROLINA', 'NORTH_DAKOTA', 'OHIO', 'OKLAHOMA', 'OREGON',\n",
       "       'PENNSYLVANIA', 'RHODE_ISLAND', 'SOUTH_CAROLINA', 'SOUTH_DAKOTA',\n",
       "       'TENNESSEE', 'TEXAS', 'UTAH', 'VERMONT', 'VIRGINIA', 'WASHINGTON',\n",
       "       'WEST_VIRGINIA', 'WISCONSIN', 'WYOMING'], dtype=object)"
      ]
     },
     "execution_count": 16,
     "metadata": {},
     "output_type": "execute_result"
    }
   ],
   "source": [
    "dfs['state'].unique()"
   ]
  },
  {
   "cell_type": "code",
   "execution_count": 17,
   "id": "88dd8a62-4078-4192-a57f-022cf6a9aa7c",
   "metadata": {},
   "outputs": [
    {
     "data": {
      "text/plain": [
       "array(['AMD', 'BLINDNESS', 'CATARACT', 'DIABETIC_RETINOPATHY', 'GLAUCOMA',\n",
       "       'HYPEROPIA', 'MYOPIA', 'VISION_IMPAIRMENT'], dtype=object)"
      ]
     },
     "execution_count": 17,
     "metadata": {},
     "output_type": "execute_result"
    }
   ],
   "source": [
    "dfs['vision_problem'].unique()"
   ]
  },
  {
   "cell_type": "code",
   "execution_count": 18,
   "id": "dc286f57-1aae-4134-a461-4aba9705e119",
   "metadata": {},
   "outputs": [
    {
     "data": {
      "text/plain": [
       "array(['ALL', 'BLACK', 'HISPANIC', 'OTHER', 'WHITE'], dtype=object)"
      ]
     },
     "execution_count": 18,
     "metadata": {},
     "output_type": "execute_result"
    }
   ],
   "source": [
    "dfs['race'].unique()"
   ]
  },
  {
   "cell_type": "code",
   "execution_count": 19,
   "id": "cac9259d-795d-4505-81d7-88f8953c42a2",
   "metadata": {},
   "outputs": [
    {
     "data": {
      "text/plain": [
       "array(['ALL', 'FEMALE', 'MALE'], dtype=object)"
      ]
     },
     "execution_count": 19,
     "metadata": {},
     "output_type": "execute_result"
    }
   ],
   "source": [
    "dfs['sex'].unique()"
   ]
  },
  {
   "cell_type": "code",
   "execution_count": null,
   "id": "671778b5-44a9-4a8b-80b0-8d36c34374ed",
   "metadata": {},
   "outputs": [],
   "source": []
  }
 ],
 "metadata": {
  "kernelspec": {
   "display_name": "Python 3",
   "language": "python",
   "name": "python3"
  },
  "language_info": {
   "codemirror_mode": {
    "name": "ipython",
    "version": 3
   },
   "file_extension": ".py",
   "mimetype": "text/x-python",
   "name": "python",
   "nbconvert_exporter": "python",
   "pygments_lexer": "ipython3",
   "version": "3.8.8"
  }
 },
 "nbformat": 4,
 "nbformat_minor": 5
}
