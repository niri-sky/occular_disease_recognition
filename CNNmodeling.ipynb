{
 "cells": [
  {
   "cell_type": "markdown",
   "id": "38f54474-6355-42b1-8c8d-a531822c58b1",
   "metadata": {},
   "source": [
    "## CNN Model"
   ]
  },
  {
   "cell_type": "markdown",
   "id": "8746ce63-2a24-4ab9-af10-d5699cd6c006",
   "metadata": {},
   "source": [
    "### Imports "
   ]
  },
  {
   "cell_type": "code",
   "execution_count": 95,
   "id": "e0953519-4400-4eb6-8063-e37a3922e47b",
   "metadata": {},
   "outputs": [],
   "source": [
    "# imports\n",
    "import matplotlib.pyplot as plt\n",
    "import numpy as np\n",
    "import os\n",
    "import pandas as pd\n",
    "\n",
    "from tensorflow.keras.layers import Dense, Dropout, Flatten, Conv2D, MaxPooling2D\n",
    "from tensorflow.keras.models import Sequential\n",
    "from tensorflow.keras.preprocessing.image import img_to_array, load_img\n",
    "from tensorflow.keras.utils import to_categorical\n",
    "\n",
    "from sklearn.model_selection import train_test_split\n",
    "\n",
    "from sklearn.metrics import confusion_matrix, ConfusionMatrixDisplay\n",
    "\n",
    "from tensorflow.keras.models import Model"
   ]
  },
  {
   "cell_type": "code",
   "execution_count": 73,
   "id": "c2c89846-21e1-4313-9517-e6ee4f354058",
   "metadata": {},
   "outputs": [],
   "source": [
    "# Setting a random seed for reproducibility\n",
    "np.random.seed(42)"
   ]
  },
  {
   "cell_type": "markdown",
   "id": "663277fd-f709-4b4f-942f-ccd6373ac0b4",
   "metadata": {},
   "source": [
    "### Reading in image data as X and y"
   ]
  },
  {
   "cell_type": "code",
   "execution_count": 74,
   "id": "0b4c9d01-320a-4a00-8bbc-f7901c07c9a5",
   "metadata": {
    "tags": []
   },
   "outputs": [],
   "source": [
    "# specify the path with the subfolders of cleaned eye images (each subfolder is an eye condition)\n",
    "clean_path = './cleaned_eye_images/'\n",
    "\n",
    "# the target y is the eye condition \n",
    "# make a dictionary of eye conditions and integers because y needs to be a number, not a string\n",
    "condition_dict = {'normal':0, 'retinopathy': 1, 'glaucoma':2, 'cataracts':3}\n",
    "\n",
    "# make empty lists for X and y\n",
    "X=[]\n",
    "y=[]\n",
    "\n",
    "# iterate through each subfolder (= condition)\n",
    "for condition in os.listdir(clean_path):\n",
    "    \n",
    "    # make sure the subfolder is actually the name of a condition (e.g., not 'DS_Store')\n",
    "    if condition in condition_dict.keys():\n",
    "        \n",
    "        # iterate through each image file in the subfolder\n",
    "        for file in os.listdir(clean_path+condition):\n",
    "            \n",
    "            # added a try/except so that DS_Store files don't trip an error\n",
    "            try:\n",
    "                # load the image file\n",
    "                image = load_img(clean_path+condition+'/'+file)\n",
    "                \n",
    "                # convert the image to an array and normalize it by dividing by 255\n",
    "                image_arr = img_to_array(image) / 255\n",
    "                \n",
    "                # add the image array to X\n",
    "                X.append(image_arr)\n",
    "                \n",
    "                # use the condition_dict to add the right number to y that corresponds to the eye condition\n",
    "                y.append(condition_dict[condition])\n",
    "                \n",
    "            except:\n",
    "                continue\n",
    "                \n",
    "# change X and y into numpy arrays\n",
    "X = np.array(X)\n",
    "y = np.array(y)"
   ]
  },
  {
   "cell_type": "code",
   "execution_count": 75,
   "id": "8f987109-7dd2-43a3-9b5e-13f886ddc3fc",
   "metadata": {},
   "outputs": [
    {
     "data": {
      "text/plain": [
       "(1692, 512, 512, 3)"
      ]
     },
     "execution_count": 75,
     "metadata": {},
     "output_type": "execute_result"
    }
   ],
   "source": [
    "# checking the shape of X\n",
    "# there are 1692 512x512 images with 3 channels (RGB)\n",
    "X.shape"
   ]
  },
  {
   "cell_type": "code",
   "execution_count": 76,
   "id": "733962dd-2e80-4dd8-a8b8-77bfc3d8806e",
   "metadata": {},
   "outputs": [
    {
     "data": {
      "text/plain": [
       "(1692,)"
      ]
     },
     "execution_count": 76,
     "metadata": {},
     "output_type": "execute_result"
    }
   ],
   "source": [
    "# y matches the number of images in X\n",
    "y.shape"
   ]
  },
  {
   "cell_type": "code",
   "execution_count": 77,
   "id": "6054411e-9e8c-4e96-8975-442271b204ef",
   "metadata": {},
   "outputs": [],
   "source": [
    "# y is categorical so we need to one-hot-encode it\n",
    "\n",
    "# learned about to_categorical here:\n",
    "# https://www.tensorflow.org/api_docs/python/tf/keras/utils/to_categorical\n",
    "\n",
    "y = to_categorical(y)"
   ]
  },
  {
   "cell_type": "markdown",
   "id": "164e147d-db8f-41b7-b481-2bae672c7c55",
   "metadata": {},
   "source": [
    "### Train-Test Split"
   ]
  },
  {
   "cell_type": "code",
   "execution_count": 78,
   "id": "943563d9-49f4-4888-8331-27f9407112a4",
   "metadata": {},
   "outputs": [],
   "source": [
    "# regular train-test-split \n",
    "# no need for StandardScaler because the images have already been normalized\n",
    "X_train, X_test, y_train, y_test = train_test_split(X, y, random_state=42, stratify=y)"
   ]
  },
  {
   "cell_type": "markdown",
   "id": "776dd38a-1bde-4403-9502-33d18d2c2dc1",
   "metadata": {},
   "source": [
    "### Building the CNN Model"
   ]
  },
  {
   "cell_type": "code",
   "execution_count": 79,
   "id": "6baaeb65-65c3-417c-b882-56e3bc73d13d",
   "metadata": {},
   "outputs": [],
   "source": [
    "# Instantiate a Sequential model (that will process each layer sequentially)\n",
    "model = Sequential()"
   ]
  },
  {
   "cell_type": "code",
   "execution_count": 80,
   "id": "207bcbf3-ec8f-4d3c-a8a8-2f9abc454857",
   "metadata": {},
   "outputs": [],
   "source": [
    "# add a Convolutional 2D layer that will create 16 3x3 filters to detect image features\n",
    "\n",
    "# starting with a small number of features and increasing them for each layer is recommended because\n",
    "# the model finds the smaller number of main features first and then builds them up into more complex larger numbers of features\n",
    "\n",
    "# the input shape is 512x512 pixels with 3 channels (RGB)\n",
    "# we chose 512x512 because we wanted smaller files, but didn't want to lose too much data by shrinking them too much\n",
    "# many of the original image files were much bigger (e.g., 2464×1632, 3GB)\n",
    "# in the CNN lesson, images were scaled to 256x256, but they weren't medical images, and that seemed too small\n",
    "# 512x512 is double the size from the lesson\n",
    "# also, one of the kaggle datasets included preprocessed images which had been resized to 512x512\n",
    "# we decided to try this image size \n",
    "\n",
    "# using relu (rectified linear function) activation, which returns positive output directly and returns 0 for negative output\n",
    "\n",
    "model.add(Conv2D(16, (3,3), activation='relu', input_shape=(512,512,3)))"
   ]
  },
  {
   "cell_type": "code",
   "execution_count": 81,
   "id": "2267b39c-9f9a-4740-b6dd-faccf985ed14",
   "metadata": {},
   "outputs": [],
   "source": [
    "# add a MaxPooling 2D layer that will take the maximum value in every 2x2 grid (with a stride defaulting to the pool_size)\n",
    "# this effectively cuts the dimensions of the data in half, and helps get rid of noise caused by small variations in the image\n",
    "\n",
    "model.add(MaxPooling2D(pool_size=(2,2)))"
   ]
  },
  {
   "cell_type": "code",
   "execution_count": 82,
   "id": "476205ad-de18-4027-b8c5-0f180d94c004",
   "metadata": {},
   "outputs": [],
   "source": [
    "# add more convolutional layers (with max pooling between each one) \n",
    "\n",
    "# increasing filters to 32\n",
    "# input shape is only needed for the first layer above\n",
    "model.add(Conv2D(32, (3,3), activation='relu'))\n",
    "model.add(MaxPooling2D((2,2)))\n",
    "\n",
    "# increasing filters to 64\n",
    "model.add(Conv2D(64, (3,3), activation='relu'))\n",
    "model.add(MaxPooling2D((2,2)))"
   ]
  },
  {
   "cell_type": "code",
   "execution_count": 83,
   "id": "7a2dea11-4860-481f-8355-c9044640a48c",
   "metadata": {},
   "outputs": [],
   "source": [
    "# add a flatten layer to bridge between the convolutional layers and the dense layers\n",
    "model.add(Flatten())"
   ]
  },
  {
   "cell_type": "code",
   "execution_count": 84,
   "id": "6dbb87d6-f17c-4068-9020-45982992a2dd",
   "metadata": {},
   "outputs": [],
   "source": [
    "# the dense layer analyzes the features that were identified in the convolutional layers \n",
    "model.add(Dense(256, activation='relu'))"
   ]
  },
  {
   "cell_type": "code",
   "execution_count": 85,
   "id": "987b4e18-8c1b-4966-8901-0fe58b61f989",
   "metadata": {},
   "outputs": [],
   "source": [
    "# add the output layer\n",
    "# if there are multiple classes (not binary), change the nodes to the number of classes and use softmax activation\n",
    "# if it's binary, use sigmoid activation\n",
    "model.add(Dense(4, activation='softmax'))"
   ]
  },
  {
   "cell_type": "code",
   "execution_count": 86,
   "id": "f22ff4cb-96d0-49c3-b77b-a77f79804193",
   "metadata": {},
   "outputs": [],
   "source": [
    "# compile the model\n",
    "# if multiclass, use categorical_crossentropy \n",
    "# if binary, use binary_crossentropy\n",
    "model.compile(loss='categorical_crossentropy', metrics=['accuracy'], optimizer='adam')"
   ]
  },
  {
   "cell_type": "markdown",
   "id": "560a3217-f61f-47ba-8696-543c6acf28ba",
   "metadata": {},
   "source": [
    "### Fitting the Model"
   ]
  },
  {
   "cell_type": "code",
   "execution_count": 87,
   "id": "61749c92-481b-44c0-b03c-1d799c0038fd",
   "metadata": {},
   "outputs": [
    {
     "name": "stdout",
     "output_type": "stream",
     "text": [
      "Epoch 1/10\n",
      "20/20 [==============================] - 291s 14s/step - loss: 2.1781 - accuracy: 0.4665 - val_loss: 0.8205 - val_accuracy: 0.6832\n",
      "Epoch 2/10\n",
      "20/20 [==============================] - 251s 12s/step - loss: 0.7188 - accuracy: 0.6998 - val_loss: 0.7137 - val_accuracy: 0.6785\n",
      "Epoch 3/10\n",
      "20/20 [==============================] - 215s 11s/step - loss: 0.6476 - accuracy: 0.7139 - val_loss: 0.6795 - val_accuracy: 0.6856\n",
      "Epoch 4/10\n",
      "20/20 [==============================] - 220s 11s/step - loss: 0.6128 - accuracy: 0.7494 - val_loss: 0.7618 - val_accuracy: 0.6761\n",
      "Epoch 5/10\n",
      "20/20 [==============================] - 215s 11s/step - loss: 0.6357 - accuracy: 0.7203 - val_loss: 0.6890 - val_accuracy: 0.6832\n",
      "Epoch 6/10\n",
      "20/20 [==============================] - 215s 11s/step - loss: 0.5634 - accuracy: 0.7541 - val_loss: 0.6501 - val_accuracy: 0.7045\n",
      "Epoch 7/10\n",
      "20/20 [==============================] - 208s 10s/step - loss: 0.5252 - accuracy: 0.7833 - val_loss: 0.6479 - val_accuracy: 0.7281\n",
      "Epoch 8/10\n",
      "20/20 [==============================] - 238s 12s/step - loss: 0.5038 - accuracy: 0.7935 - val_loss: 0.6703 - val_accuracy: 0.7305\n",
      "Epoch 9/10\n",
      "20/20 [==============================] - 223s 11s/step - loss: 0.4779 - accuracy: 0.8022 - val_loss: 0.7040 - val_accuracy: 0.6974\n",
      "Epoch 10/10\n",
      "20/20 [==============================] - 224s 11s/step - loss: 0.4610 - accuracy: 0.8188 - val_loss: 0.7049 - val_accuracy: 0.7234\n"
     ]
    }
   ],
   "source": [
    "# fit the model and save it as h so the accuracy and loss scores for each epoch can be visualized\n",
    "# batch size is the number of images processed before updating the metrics\n",
    "# epochs is the number of times the model goes through the entire dataset\n",
    "h = model.fit(X_train, y_train, validation_data=(X_test,y_test), batch_size=64, epochs=10)"
   ]
  },
  {
   "cell_type": "markdown",
   "id": "1ae000bc-fd50-46c0-88fc-9cf9d39e1466",
   "metadata": {},
   "source": [
    "This model, without any regularization, reaches about 73% validation accuracy before becoming very overfit. We didn't add early stopping, so the final results of this model reflect the last epoch and gave a training accuracy of 82% and a validation accuracy of 72%"
   ]
  },
  {
   "cell_type": "markdown",
   "id": "501cd77b-cb33-4491-88c5-87793dc81b46",
   "metadata": {},
   "source": [
    "### Visualizing the accuracy and loss scores for each epoch"
   ]
  },
  {
   "cell_type": "code",
   "execution_count": 88,
   "id": "bb492adc-c09e-4464-a211-bef1b5847fe4",
   "metadata": {},
   "outputs": [
    {
     "data": {
      "image/png": "[encoded data removed]",
      "text/plain": [
       "<Figure size 432x288 with 1 Axes>"
      ]
     },
     "metadata": {
      "needs_background": "light"
     },
     "output_type": "display_data"
    }
   ],
   "source": [
    "plt.plot(h.history['accuracy'], label='accuracy')\n",
    "plt.plot(h.history['val_accuracy'], label='val accuracy')\n",
    "plt.legend();"
   ]
  },
  {
   "cell_type": "markdown",
   "id": "e7d4329c-cdbf-420f-9b0c-f603c002c24a",
   "metadata": {},
   "source": [
    "This plot shows the dramatic increase in model accuracy in the first epoch followed by a slower but fairly consistent increase in accuracy as the epochs progress. Validation accuracy hovers around 67% but increases to a peak of about 73% around epoch 6"
   ]
  },
  {
   "cell_type": "code",
   "execution_count": 89,
   "id": "282dc536-63e6-4681-a172-99bd2d4739fc",
   "metadata": {},
   "outputs": [
    {
     "data": {
      "image/png": "[encoded data removed]",
      "text/plain": [
       "<Figure size 432x288 with 1 Axes>"
      ]
     },
     "metadata": {
      "needs_background": "light"
     },
     "output_type": "display_data"
    }
   ],
   "source": [
    "plt.plot(h.history['loss'], label='training loss')\n",
    "plt.plot(h.history['val_loss'], label='validation loss')\n",
    "plt.legend();"
   ]
  },
  {
   "cell_type": "markdown",
   "id": "5e5295e9-0776-4548-bd19-dd9702dcfdfd",
   "metadata": {},
   "source": [
    "This plot shows the sharp drop in training loss at epoch one followed by additional training loss at almost every subsequent epoch. The validation loss stays relatively consistent at about .75, but starts to worsen and diverge from the training loss trend around epoch 6"
   ]
  },
  {
   "cell_type": "markdown",
   "id": "fd4386aa-9f0c-4cdf-9480-02fb886ed8b1",
   "metadata": {},
   "source": [
    "### Generating Predictions"
   ]
  },
  {
   "cell_type": "code",
   "execution_count": 90,
   "id": "781b4a83-42da-4759-8c4c-a7a49d06a9b0",
   "metadata": {},
   "outputs": [],
   "source": [
    "# generate predictions from X_test\n",
    "preds = model.predict(X_test)"
   ]
  },
  {
   "cell_type": "code",
   "execution_count": 91,
   "id": "5f01e33b-9086-490f-ba43-304eaee86df4",
   "metadata": {},
   "outputs": [],
   "source": [
    "# change the list of prediction probabilities into predictions of a number 0-4 by taking the index of the max probability\n",
    "simple_preds = []\n",
    "for prediction in preds:\n",
    "    simple_preds.append(np.where(prediction == prediction.max())[0][0])"
   ]
  },
  {
   "cell_type": "code",
   "execution_count": 92,
   "id": "85a0955a-0099-4c47-b857-dd4c7e5caca0",
   "metadata": {},
   "outputs": [
    {
     "data": {
      "text/plain": [
       "array([3, 2, 2, 3, 1, 0, 1, 2, 3, 3, 2, 3, 1, 0, 2, 3, 3, 1, 3, 1, 1, 3,\n",
       "       1, 1, 1, 1, 2, 1, 3, 0, 3, 3, 3, 1, 2, 3, 0, 2, 2, 1, 1, 2, 2, 1,\n",
       "       2, 0, 2, 3, 0, 1, 3, 2, 1, 3, 0, 1, 2, 1, 3, 3, 2, 1, 2, 3, 1, 1,\n",
       "       1, 3, 1, 2, 3, 2, 2, 1, 0, 0, 2, 3, 3, 1, 3, 2, 3, 1, 3, 3, 3, 1,\n",
       "       3, 1, 3, 0, 1, 3, 0, 1, 3, 3, 1, 2, 1, 0, 3, 3, 3, 3, 0, 2, 2, 3,\n",
       "       0, 3, 0, 3, 0, 2, 1, 1, 2, 3, 0, 3, 3, 1, 0, 1, 2, 1, 0, 2, 3, 1,\n",
       "       0, 1, 3, 2, 3, 0, 2, 1, 3, 1, 2, 0, 3, 2, 2, 2, 2, 1, 1, 1, 2, 3,\n",
       "       0, 1, 1, 1, 0, 3, 2, 0, 1, 1, 1, 1, 1, 3, 0, 2, 1, 3, 1, 1, 3, 0,\n",
       "       1, 3, 0, 1, 2, 2, 3, 3, 1, 0, 3, 1, 2, 3, 3, 3, 3, 3, 3, 0, 0, 2,\n",
       "       1, 3, 0, 3, 3, 1, 0, 3, 2, 0, 3, 0, 3, 0, 2, 2, 3, 1, 0, 1, 0, 2,\n",
       "       3, 3, 1, 2, 2, 3, 1, 0, 2, 3, 0, 1, 3, 3, 2, 1, 2, 2, 3, 2, 3, 3,\n",
       "       0, 3, 1, 1, 2, 0, 2, 1, 1, 0, 1, 1, 1, 0, 3, 2, 2, 2, 1, 0, 1, 3,\n",
       "       3, 1, 3, 0, 2, 0, 3, 3, 0, 1, 1, 2, 1, 2, 0, 3, 3, 1, 1, 1, 2, 3,\n",
       "       3, 2, 1, 2, 1, 3, 1, 3, 3, 1, 3, 2, 0, 2, 0, 2, 1, 3, 2, 0, 0, 2,\n",
       "       3, 1, 3, 0, 1, 3, 3, 2, 2, 1, 0, 1, 3, 3, 0, 2, 3, 0, 1, 0, 3, 3,\n",
       "       2, 3, 0, 1, 3, 0, 3, 3, 3, 2, 1, 0, 2, 3, 2, 2, 1, 1, 3, 2, 1, 3,\n",
       "       1, 0, 3, 0, 2, 1, 1, 3, 3, 2, 2, 1, 1, 3, 3, 2, 2, 3, 0, 0, 3, 1,\n",
       "       2, 1, 1, 1, 0, 2, 3, 1, 1, 2, 0, 2, 1, 3, 1, 1, 1, 3, 3, 2, 2, 2,\n",
       "       2, 1, 2, 1, 1, 3, 2, 2, 2, 2, 0, 0, 0, 0, 3, 2, 2, 0, 1, 2, 2, 2,\n",
       "       0, 2, 0, 0, 1])"
      ]
     },
     "execution_count": 92,
     "metadata": {},
     "output_type": "execute_result"
    }
   ],
   "source": [
    "# reverse-one-hot-encode y_test \n",
    "\n",
    "# learned about np.argmax here:\n",
    "# https://stackoverflow.com/questions/54143458/convert-categorical-data-back-to-numbers-using-keras-utils-to-categorical\n",
    "\n",
    "y_test_simple = np.argmax(y_test, axis=-1)\n",
    "\n",
    "# make sure it worked\n",
    "y_test_simple"
   ]
  },
  {
   "cell_type": "code",
   "execution_count": 93,
   "id": "18c2addf-7e56-4cb4-8c9d-811cf997d3e0",
   "metadata": {},
   "outputs": [
    {
     "data": {
      "image/png": "[encoded data removed]",
      "text/plain": [
       "<Figure size 432x288 with 2 Axes>"
      ]
     },
     "metadata": {
      "needs_background": "light"
     },
     "output_type": "display_data"
    }
   ],
   "source": [
    "# make and display a confusion matrix\n",
    "conf_matrix = confusion_matrix(y_test_simple, simple_preds)\n",
    "ConfusionMatrixDisplay(confusion_matrix=conf_matrix, display_labels=(list(condition_dict.keys()))).plot();"
   ]
  },
  {
   "cell_type": "markdown",
   "id": "a11b8223-03c9-478c-a267-af0d5209ace8",
   "metadata": {},
   "source": [
    "The model had the most difficulty distinguishing glaucoma from cataracts. The model was pretty good at identifying normal eyes. Eyes that had a condition but were classifed as normal may reflect less-severe instances of the condition."
   ]
  },
  {
   "cell_type": "markdown",
   "id": "89881109-f6a7-42d5-aa26-2b4a12977d70",
   "metadata": {},
   "source": [
    "### Feature Maps (STILL WORKING ON THIS)"
   ]
  },
  {
   "cell_type": "code",
   "execution_count": 94,
   "id": "787a1d31-c78d-45e5-816e-28f16f1c83bd",
   "metadata": {},
   "outputs": [
    {
     "name": "stdout",
     "output_type": "stream",
     "text": [
      "Model: \"sequential_1\"\n",
      "_________________________________________________________________\n",
      "Layer (type)                 Output Shape              Param #   \n",
      "=================================================================\n",
      "conv2d_3 (Conv2D)            (None, 510, 510, 16)      448       \n",
      "_________________________________________________________________\n",
      "max_pooling2d_3 (MaxPooling2 (None, 255, 255, 16)      0         \n",
      "_________________________________________________________________\n",
      "conv2d_4 (Conv2D)            (None, 253, 253, 32)      4640      \n",
      "_________________________________________________________________\n",
      "max_pooling2d_4 (MaxPooling2 (None, 126, 126, 32)      0         \n",
      "_________________________________________________________________\n",
      "conv2d_5 (Conv2D)            (None, 124, 124, 64)      18496     \n",
      "_________________________________________________________________\n",
      "max_pooling2d_5 (MaxPooling2 (None, 62, 62, 64)        0         \n",
      "_________________________________________________________________\n",
      "flatten_1 (Flatten)          (None, 246016)            0         \n",
      "_________________________________________________________________\n",
      "dense_2 (Dense)              (None, 256)               62980352  \n",
      "_________________________________________________________________\n",
      "dense_3 (Dense)              (None, 4)                 1028      \n",
      "=================================================================\n",
      "Total params: 63,004,964\n",
      "Trainable params: 63,004,964\n",
      "Non-trainable params: 0\n",
      "_________________________________________________________________\n"
     ]
    }
   ],
   "source": [
    "model.summary()"
   ]
  },
  {
   "cell_type": "code",
   "execution_count": null,
   "id": "30501b77-dbb0-4dab-9abe-2cb17460c369",
   "metadata": {},
   "outputs": [],
   "source": [
    "# we don't need to do this but I found a blog about how to write code to see the feature maps generated by the model--\n",
    "# https://www.analyticsvidhya.com/blog/2020/11/tutorial-how-to-visualize-feature-maps-directly-from-cnn-layers/\n",
    "\n",
    "# if we have time it would be cool to try this"
   ]
  },
  {
   "cell_type": "code",
   "execution_count": 66,
   "id": "34e749ba-33c6-49a9-8084-55355a4668ad",
   "metadata": {},
   "outputs": [],
   "source": [
    "layer_outputs = [layer.output for layer in model.layers]\n",
    "\n",
    "feature_map_model = Model(inputs=model.input, outputs=layer_outputs)"
   ]
  },
  {
   "cell_type": "code",
   "execution_count": 67,
   "id": "823e3996-8daa-4a44-b1f1-5cac670fad5f",
   "metadata": {},
   "outputs": [],
   "source": [
    "feature_maps = feature_map_model.predict(X_test[0:3])"
   ]
  },
  {
   "cell_type": "code",
   "execution_count": 68,
   "id": "08d2a4d3-b944-401f-82b6-9a588d680725",
   "metadata": {},
   "outputs": [],
   "source": [
    "layer_names = [layer.name for layer in model.layers]"
   ]
  },
  {
   "cell_type": "code",
   "execution_count": 70,
   "id": "1087cbba-2e0b-445f-ae99-3adfc59317fa",
   "metadata": {},
   "outputs": [
    {
     "name": "stderr",
     "output_type": "stream",
     "text": [
      "<ipython-input-70-f41ba01a6704>:8: RuntimeWarning: invalid value encountered in true_divide\n",
      "  feature_image/= feature_image.std ()\n"
     ]
    }
   ],
   "source": [
    "for layer_name, feature_map in zip(layer_names, feature_maps):  \n",
    "    if len(feature_map.shape) == 4:\n",
    "        k = feature_map.shape[-1]  \n",
    "        size=feature_map.shape[1]\n",
    "        for i in range(k):\n",
    "            feature_image = feature_map[0, :, :, i]\n",
    "            feature_image-= feature_image.mean()\n",
    "            feature_image/= feature_image.std ()\n",
    "            feature_image*=  64\n",
    "            feature_image+= 128\n",
    "            feature_image= np.clip(feature_image, 0, 255).astype('uint8')\n",
    "            #image_belt[:, i * size : (i + 1) * size] = feature_image "
   ]
  },
  {
   "cell_type": "code",
   "execution_count": 71,
   "id": "81c2af5c-cd9f-44ce-975b-42c2234a038a",
   "metadata": {},
   "outputs": [
    {
     "data": {
      "text/plain": [
       "array([[0, 0, 0, ..., 0, 0, 0],\n",
       "       [0, 0, 0, ..., 0, 0, 0],\n",
       "       [0, 0, 0, ..., 0, 0, 0],\n",
       "       ...,\n",
       "       [0, 0, 0, ..., 0, 0, 0],\n",
       "       [0, 0, 0, ..., 0, 0, 0],\n",
       "       [0, 0, 0, ..., 0, 0, 0]], dtype=uint8)"
      ]
     },
     "execution_count": 71,
     "metadata": {},
     "output_type": "execute_result"
    }
   ],
   "source": [
    "feature_image"
   ]
  },
  {
   "cell_type": "code",
   "execution_count": 63,
   "id": "7b2ca0cf-1eeb-4f67-85ce-e7577a99975d",
   "metadata": {},
   "outputs": [
    {
     "data": {
      "image/png": "[encoded data removed]",
      "text/plain": [
       "<Figure size 1440x22.5 with 1 Axes>"
      ]
     },
     "metadata": {
      "needs_background": "light"
     },
     "output_type": "display_data"
    }
   ],
   "source": [
    "scale = 20. / k\n",
    "plt.figure( figsize=(scale * k, scale) )\n",
    "plt.title ( layer_name )\n",
    "plt.grid  ( False )\n",
    "plt.imshow( feature_image, aspect='auto');"
   ]
  },
  {
   "cell_type": "code",
   "execution_count": null,
   "id": "0e381479-e662-48a9-aa06-d0711aa6af0f",
   "metadata": {},
   "outputs": [],
   "source": []
  }
 ],
 "metadata": {
  "kernelspec": {
   "display_name": "Python 3",
   "language": "python",
   "name": "python3"
  },
  "language_info": {
   "codemirror_mode": {
    "name": "ipython",
    "version": 3
   },
   "file_extension": ".py",
   "mimetype": "text/x-python",
   "name": "python",
   "nbconvert_exporter": "python",
   "pygments_lexer": "ipython3",
   "version": "3.8.8"
  }
 },
 "nbformat": 4,
 "nbformat_minor": 5
}
