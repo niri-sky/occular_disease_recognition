{
 "cells": [
  {
   "cell_type": "markdown",
   "id": "5bc7bfd0-02bf-4ec1-9e55-e3dbae3371fc",
   "metadata": {},
   "source": [
    "## Image Preprocessing\n",
    "\n",
    "Functions that re-size images to 512x512 pixels and move them to the correct data folder in batches"
   ]
  },
  {
   "cell_type": "markdown",
   "id": "340f6bf0-6b2f-4e79-b2dd-68bdc33e7b2e",
   "metadata": {},
   "source": [
    "### Imports"
   ]
  },
  {
   "cell_type": "code",
   "execution_count": 28,
   "id": "8d2204d9-c5c2-43d8-87f7-33ecca0168a7",
   "metadata": {},
   "outputs": [],
   "source": [
    "# imports\n",
    "from keras.preprocessing.image import load_img\n",
    "from keras.preprocessing.image import save_img\n",
    "from keras.preprocessing.image import img_to_array\n",
    "from keras.preprocessing.image import smart_resize\n",
    "\n",
    "import os"
   ]
  },
  {
   "cell_type": "markdown",
   "id": "91ae7c8f-ef1a-488f-8d0b-f9758f1e087a",
   "metadata": {},
   "source": [
    "### Re-sizing an Image"
   ]
  },
  {
   "cell_type": "code",
   "execution_count": 26,
   "id": "7a89eb6e-61f5-4166-8598-4b23a8699b2d",
   "metadata": {},
   "outputs": [],
   "source": [
    "# This function resizes an image to 512x512 pixels while preserving the aspect ratio\n",
    "\n",
    "# the function takes in 3 variables:\n",
    "# filepath is where the original image is located \n",
    "# eye_condition is the name of the subfolder the cleaned image will be saved in\n",
    "# filename is the name of the original image file\n",
    "\n",
    "# learned about saving images after preprocessing here:\n",
    "# https://machinelearningmastery.com/how-to-load-convert-and-save-images-with-the-keras-api/\n",
    "\n",
    "# learned about smart_resize here:\n",
    "# https://www.tensorflow.org/api_docs/python/tf/keras/preprocessing/image/smart_resize\n",
    "\n",
    "def image_process(filepath, eye_condition, filename):\n",
    "    \n",
    "    # load image\n",
    "    img = load_img(filepath+filename)\n",
    "\n",
    "    # convert image to a numpy array\n",
    "    img_array = img_to_array(img)\n",
    "    \n",
    "    # use smart_resize to crop and resize the image to 512x512 while preserving the aspect ratio\n",
    "    # smart_resize crops the image by taking the shorter edge (height or width) and cropping the longer edge to that size \n",
    "    # by trimming an equal amount from either side (i.e., centered cropping)\n",
    "    # this works very well for eye images since eyes are circles, so the centered cropping isn't going to cut anything important\n",
    "    img_array = smart_resize(img_array, size=(512,512))\n",
    "\n",
    "    # cut the file extension off of the filename \n",
    "    filename = filename[:-4]\n",
    "    \n",
    "    # save the image with a new filename in the cleaned_eye_image directory\n",
    "    save_img(f'../data/cleaned_eye_images/{eye_condition}/{filename}_cleaned.jpg', img_array)\n"
   ]
  },
  {
   "cell_type": "code",
   "execution_count": 27,
   "id": "8b3d0f27-4f74-467d-a266-d030dfcd433b",
   "metadata": {},
   "outputs": [],
   "source": [
    "# testing the image_process function\n",
    "\n",
    "# (commenting it out because we aren't uploading the original image data to Github)\n",
    "\n",
    "#image_process('./eye_images/eye_images_4_types/dataset/1_normal/','normal','NL_001.png')"
   ]
  },
  {
   "cell_type": "markdown",
   "id": "bcff5c83-8ce6-4bc8-8db2-06fec83ad740",
   "metadata": {},
   "source": [
    "### Batch Re-sizing"
   ]
  },
  {
   "cell_type": "code",
   "execution_count": 29,
   "id": "4504df66-ce05-4045-b274-1f8b3c610017",
   "metadata": {},
   "outputs": [],
   "source": [
    "# function to cycle through all the images in a folder and process them with the image_process function\n",
    "\n",
    "# takes in 2 variables:\n",
    "# filepath is the filepath where the images are located\n",
    "# eye_condition is for the subfolder name for the cleaned image files\n",
    "\n",
    "# used the CNN lesson notebook for help with the os.listdir syntax\n",
    "\n",
    "def batch_images(filepath, eye_condition):\n",
    "    for file in os.listdir(filepath):\n",
    "        image_process(filepath, eye_condition, file)"
   ]
  },
  {
   "cell_type": "markdown",
   "id": "15f171a2-3b7f-46aa-80ef-ecb1490b1e3f",
   "metadata": {},
   "source": [
    "#### Specific folders of images that have been processed:\n",
    "NOTE: These folder names do not exist in our repository due to the large size of the unzipped files, but dataset information is available in the data folder."
   ]
  },
  {
   "cell_type": "code",
   "execution_count": 30,
   "id": "dfbcbfe9-30f4-48c4-9ba4-a474d742b714",
   "metadata": {},
   "outputs": [],
   "source": [
    "# processing some of the 'normal' non-diseased eyes\n",
    "batch_images('./eye_images/eye_images_4_types/dataset/1_normal/','normal')"
   ]
  },
  {
   "cell_type": "code",
   "execution_count": 31,
   "id": "61909cc1-12b7-46a1-873a-17c726b75c07",
   "metadata": {},
   "outputs": [],
   "source": [
    "# processing glaucoma eyes\n",
    "batch_images('./eye_images/eye_images_4_types/dataset/2_glaucoma/','glaucoma')\n",
    "\n",
    "# processing eyes with cataracts\n",
    "batch_images('./eye_images/eye_images_4_types/dataset/2_cataract/','cataracts')\n",
    "\n",
    "# processing eyes with retinopathy\n",
    "batch_images('./eye_images/eye_images_4_types/dataset/3_retina_disease/','retinopathy')"
   ]
  },
  {
   "cell_type": "code",
   "execution_count": 32,
   "id": "540d4125-32a0-4eeb-a9c7-421b7832207b",
   "metadata": {},
   "outputs": [],
   "source": [
    "# adding in more image files from additional sources\n",
    "\n",
    "# processing eyes with cataracts\n",
    "batch_images('./eye_images/Cataract/','cataracts')\n",
    "\n",
    "\n",
    "\n",
    "# These all turned out to be the same as above (same number of files and same file names):\n",
    "\n",
    "# processing non-diseased eyes\n",
    "batch_images('./eye_images/Normal/','normal')\n",
    "\n",
    "# processing glaucoma eyes\n",
    "batch_images('./eye_images/Glaucoma/','glaucoma')\n",
    "\n",
    "# processing eyes with retinopathy\n",
    "batch_images('./eye_images/Retina_disease/','retinopathy')"
   ]
  },
  {
   "cell_type": "code",
   "execution_count": 33,
   "id": "d2570648-e189-4098-9aa1-e8f4c9be7501",
   "metadata": {},
   "outputs": [],
   "source": [
    "# processing more eyes with retinopathy\n",
    "batch_images('./eye_images/dr/','retinopathy')"
   ]
  },
  {
   "cell_type": "code",
   "execution_count": 34,
   "id": "427121fe-3c5a-496a-825a-f4f8ab1264aa",
   "metadata": {},
   "outputs": [],
   "source": [
    "# processing more glaucoma eyes\n",
    "batch_images('./eye_images/Glaucoma_left/','glaucoma')\n",
    "batch_images('./eye_images/Glaucoma_right/','glaucoma')"
   ]
  },
  {
   "cell_type": "markdown",
   "id": "1f2a45ca-3760-450f-ba15-73e664119ae3",
   "metadata": {},
   "source": [
    "### Additional Ideas for Preprocessing"
   ]
  },
  {
   "cell_type": "markdown",
   "id": "ba961a97-e84d-4614-ab95-45ea36255332",
   "metadata": {},
   "source": [
    "[This project on kaggle](https://www.kaggle.com/mohammadasimbluemoon/diabeticretinopathy-messidor-eyepac-preprocessed) suggests subtracting the average local color from images to improve processing time, which is a technique we might consider in future directions for this project, especially since processing efficiency is very important for successful implementation.\n"
   ]
  },
  {
   "cell_type": "code",
   "execution_count": null,
   "id": "c2fb6d62-6e70-41b6-a084-2e6efb84a86e",
   "metadata": {},
   "outputs": [],
   "source": []
  }
 ],
 "metadata": {
  "kernelspec": {
   "display_name": "Python 3",
   "language": "python",
   "name": "python3"
  },
  "language_info": {
   "codemirror_mode": {
    "name": "ipython",
    "version": 3
   },
   "file_extension": ".py",
   "mimetype": "text/x-python",
   "name": "python",
   "nbconvert_exporter": "python",
   "pygments_lexer": "ipython3",
   "version": "3.8.8"
  }
 },
 "nbformat": 4,
 "nbformat_minor": 5
}
